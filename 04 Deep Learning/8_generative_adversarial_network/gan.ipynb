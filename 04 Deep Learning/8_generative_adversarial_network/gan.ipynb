{
  "cells": [
    {
      "cell_type": "markdown",
      "source": [
        "# **Imports 📢**"
      ],
      "metadata": {
        "id": "fQFlVvECeZsD"
      }
    },
    {
      "cell_type": "code",
      "execution_count": 1,
      "metadata": {
        "id": "Jnc2LOc9eRjD"
      },
      "outputs": [],
      "source": [
        "import torch\n",
        "import torch.nn as nn\n",
        "import torch.optim as optim\n",
        "import torch.nn.functional as F\n",
        "from torch.utils.data import DataLoader, ConcatDataset\n",
        "\n",
        "import torchvision\n",
        "from torchvision import transforms as T\n",
        "from torchvision.datasets import MNIST\n",
        "from torchvision.utils import make_grid, save_image\n",
        "\n",
        "import matplotlib.pyplot as plt"
      ]
    },
    {
      "cell_type": "markdown",
      "metadata": {
        "id": "BnuCvltdo0ix"
      },
      "source": [
        "# **Inits 👶**"
      ]
    },
    {
      "cell_type": "code",
      "execution_count": 2,
      "metadata": {
        "id": "AwbJQm3koveD"
      },
      "outputs": [],
      "source": [
        "device = 'cuda' if torch.cuda.is_available() else 'cpu'"
      ]
    },
    {
      "cell_type": "code",
      "source": [
        "mnist_dim = 28 * 28\n",
        "n_g = 256\n",
        "z_dim = 100\n",
        "lr = 0.0002\n",
        "n_epochs=400"
      ],
      "metadata": {
        "id": "zzUKy8-bPhtm"
      },
      "execution_count": 21,
      "outputs": []
    },
    {
      "cell_type": "markdown",
      "source": [
        "# **Utils 🧰**"
      ],
      "metadata": {
        "id": "mbpEEA0g1-Be"
      }
    },
    {
      "cell_type": "code",
      "source": [
        "class AverageMeter(object):\n",
        "    \"\"\"Computes and stores the average and current value\"\"\"\n",
        "    def __init__(self):\n",
        "        self.reset()\n",
        "\n",
        "    def reset(self):\n",
        "        self.val = 0\n",
        "        self.avg = 0\n",
        "        self.sum = 0\n",
        "        self.count = 0\n",
        "\n",
        "    def update(self, val, n=1):\n",
        "        self.val = val\n",
        "        self.sum += val * n\n",
        "        self.count += n\n",
        "        self.avg = self.sum / self.count"
      ],
      "metadata": {
        "id": "G6s889_UrqDT"
      },
      "execution_count": 3,
      "outputs": []
    },
    {
      "cell_type": "markdown",
      "metadata": {
        "id": "GsREJ2g7pP7X"
      },
      "source": [
        "# **Dataset 🎓**"
      ]
    },
    {
      "cell_type": "code",
      "source": [
        "transform = T.Compose([\n",
        "    T.ToTensor(),\n",
        "    T.Normalize(0.5, 0.5)\n",
        "])"
      ],
      "metadata": {
        "id": "43qV7NgSJvWe"
      },
      "execution_count": 4,
      "outputs": []
    },
    {
      "cell_type": "code",
      "execution_count": 5,
      "metadata": {
        "id": "a4o-7KW_L0C9",
        "colab": {
          "base_uri": "https://localhost:8080/"
        },
        "outputId": "a4ed3fb5-191f-4026-94ad-d84a623d0e86"
      },
      "outputs": [
        {
          "output_type": "stream",
          "name": "stdout",
          "text": [
            "Downloading http://yann.lecun.com/exdb/mnist/train-images-idx3-ubyte.gz\n",
            "Failed to download (trying next):\n",
            "HTTP Error 403: Forbidden\n",
            "\n",
            "Downloading https://ossci-datasets.s3.amazonaws.com/mnist/train-images-idx3-ubyte.gz\n",
            "Downloading https://ossci-datasets.s3.amazonaws.com/mnist/train-images-idx3-ubyte.gz to ./mnist/MNIST/raw/train-images-idx3-ubyte.gz\n"
          ]
        },
        {
          "output_type": "stream",
          "name": "stderr",
          "text": [
            "100%|██████████| 9912422/9912422 [00:00<00:00, 32508936.38it/s]\n"
          ]
        },
        {
          "output_type": "stream",
          "name": "stdout",
          "text": [
            "Extracting ./mnist/MNIST/raw/train-images-idx3-ubyte.gz to ./mnist/MNIST/raw\n",
            "\n",
            "Downloading http://yann.lecun.com/exdb/mnist/train-labels-idx1-ubyte.gz\n",
            "Failed to download (trying next):\n",
            "HTTP Error 403: Forbidden\n",
            "\n",
            "Downloading https://ossci-datasets.s3.amazonaws.com/mnist/train-labels-idx1-ubyte.gz\n",
            "Downloading https://ossci-datasets.s3.amazonaws.com/mnist/train-labels-idx1-ubyte.gz to ./mnist/MNIST/raw/train-labels-idx1-ubyte.gz\n"
          ]
        },
        {
          "output_type": "stream",
          "name": "stderr",
          "text": [
            "100%|██████████| 28881/28881 [00:00<00:00, 1180556.23it/s]\n"
          ]
        },
        {
          "output_type": "stream",
          "name": "stdout",
          "text": [
            "Extracting ./mnist/MNIST/raw/train-labels-idx1-ubyte.gz to ./mnist/MNIST/raw\n",
            "\n",
            "Downloading http://yann.lecun.com/exdb/mnist/t10k-images-idx3-ubyte.gz\n",
            "Failed to download (trying next):\n",
            "HTTP Error 403: Forbidden\n",
            "\n",
            "Downloading https://ossci-datasets.s3.amazonaws.com/mnist/t10k-images-idx3-ubyte.gz\n",
            "Downloading https://ossci-datasets.s3.amazonaws.com/mnist/t10k-images-idx3-ubyte.gz to ./mnist/MNIST/raw/t10k-images-idx3-ubyte.gz\n"
          ]
        },
        {
          "output_type": "stream",
          "name": "stderr",
          "text": [
            "100%|██████████| 1648877/1648877 [00:00<00:00, 10592427.73it/s]\n"
          ]
        },
        {
          "output_type": "stream",
          "name": "stdout",
          "text": [
            "Extracting ./mnist/MNIST/raw/t10k-images-idx3-ubyte.gz to ./mnist/MNIST/raw\n",
            "\n",
            "Downloading http://yann.lecun.com/exdb/mnist/t10k-labels-idx1-ubyte.gz\n",
            "Failed to download (trying next):\n",
            "HTTP Error 403: Forbidden\n",
            "\n",
            "Downloading https://ossci-datasets.s3.amazonaws.com/mnist/t10k-labels-idx1-ubyte.gz\n",
            "Downloading https://ossci-datasets.s3.amazonaws.com/mnist/t10k-labels-idx1-ubyte.gz to ./mnist/MNIST/raw/t10k-labels-idx1-ubyte.gz\n"
          ]
        },
        {
          "output_type": "stream",
          "name": "stderr",
          "text": [
            "100%|██████████| 4542/4542 [00:00<00:00, 1328210.89it/s]"
          ]
        },
        {
          "output_type": "stream",
          "name": "stdout",
          "text": [
            "Extracting ./mnist/MNIST/raw/t10k-labels-idx1-ubyte.gz to ./mnist/MNIST/raw\n",
            "\n"
          ]
        },
        {
          "output_type": "stream",
          "name": "stderr",
          "text": [
            "\n"
          ]
        }
      ],
      "source": [
        "dataset1 = MNIST(root='./mnist', train=True, download=True, transform=transform)\n",
        "dataset2 = MNIST(root='./mnist', train=False, download=True, transform=T.ToTensor())"
      ]
    },
    {
      "cell_type": "code",
      "source": [
        "dataset = ConcatDataset([dataset1, dataset2])"
      ],
      "metadata": {
        "id": "Sezyt7E2LAMB"
      },
      "execution_count": 6,
      "outputs": []
    },
    {
      "cell_type": "code",
      "source": [
        "dataset1.data.shape[0]"
      ],
      "metadata": {
        "colab": {
          "base_uri": "https://localhost:8080/"
        },
        "id": "oczoOKj8JcEo",
        "outputId": "b00194c5-f2f6-445e-f6db-41dedaf96d6a"
      },
      "execution_count": 7,
      "outputs": [
        {
          "output_type": "execute_result",
          "data": {
            "text/plain": [
              "60000"
            ]
          },
          "metadata": {},
          "execution_count": 7
        }
      ]
    },
    {
      "cell_type": "code",
      "source": [
        "dataset1.data[0]"
      ],
      "metadata": {
        "colab": {
          "base_uri": "https://localhost:8080/"
        },
        "id": "nnKrV95OJlzZ",
        "outputId": "d1440020-c54a-4039-e772-2d258cc3b9be"
      },
      "execution_count": 8,
      "outputs": [
        {
          "output_type": "execute_result",
          "data": {
            "text/plain": [
              "tensor([[  0,   0,   0,   0,   0,   0,   0,   0,   0,   0,   0,   0,   0,   0,\n",
              "           0,   0,   0,   0,   0,   0,   0,   0,   0,   0,   0,   0,   0,   0],\n",
              "        [  0,   0,   0,   0,   0,   0,   0,   0,   0,   0,   0,   0,   0,   0,\n",
              "           0,   0,   0,   0,   0,   0,   0,   0,   0,   0,   0,   0,   0,   0],\n",
              "        [  0,   0,   0,   0,   0,   0,   0,   0,   0,   0,   0,   0,   0,   0,\n",
              "           0,   0,   0,   0,   0,   0,   0,   0,   0,   0,   0,   0,   0,   0],\n",
              "        [  0,   0,   0,   0,   0,   0,   0,   0,   0,   0,   0,   0,   0,   0,\n",
              "           0,   0,   0,   0,   0,   0,   0,   0,   0,   0,   0,   0,   0,   0],\n",
              "        [  0,   0,   0,   0,   0,   0,   0,   0,   0,   0,   0,   0,   0,   0,\n",
              "           0,   0,   0,   0,   0,   0,   0,   0,   0,   0,   0,   0,   0,   0],\n",
              "        [  0,   0,   0,   0,   0,   0,   0,   0,   0,   0,   0,   0,   3,  18,\n",
              "          18,  18, 126, 136, 175,  26, 166, 255, 247, 127,   0,   0,   0,   0],\n",
              "        [  0,   0,   0,   0,   0,   0,   0,   0,  30,  36,  94, 154, 170, 253,\n",
              "         253, 253, 253, 253, 225, 172, 253, 242, 195,  64,   0,   0,   0,   0],\n",
              "        [  0,   0,   0,   0,   0,   0,   0,  49, 238, 253, 253, 253, 253, 253,\n",
              "         253, 253, 253, 251,  93,  82,  82,  56,  39,   0,   0,   0,   0,   0],\n",
              "        [  0,   0,   0,   0,   0,   0,   0,  18, 219, 253, 253, 253, 253, 253,\n",
              "         198, 182, 247, 241,   0,   0,   0,   0,   0,   0,   0,   0,   0,   0],\n",
              "        [  0,   0,   0,   0,   0,   0,   0,   0,  80, 156, 107, 253, 253, 205,\n",
              "          11,   0,  43, 154,   0,   0,   0,   0,   0,   0,   0,   0,   0,   0],\n",
              "        [  0,   0,   0,   0,   0,   0,   0,   0,   0,  14,   1, 154, 253,  90,\n",
              "           0,   0,   0,   0,   0,   0,   0,   0,   0,   0,   0,   0,   0,   0],\n",
              "        [  0,   0,   0,   0,   0,   0,   0,   0,   0,   0,   0, 139, 253, 190,\n",
              "           2,   0,   0,   0,   0,   0,   0,   0,   0,   0,   0,   0,   0,   0],\n",
              "        [  0,   0,   0,   0,   0,   0,   0,   0,   0,   0,   0,  11, 190, 253,\n",
              "          70,   0,   0,   0,   0,   0,   0,   0,   0,   0,   0,   0,   0,   0],\n",
              "        [  0,   0,   0,   0,   0,   0,   0,   0,   0,   0,   0,   0,  35, 241,\n",
              "         225, 160, 108,   1,   0,   0,   0,   0,   0,   0,   0,   0,   0,   0],\n",
              "        [  0,   0,   0,   0,   0,   0,   0,   0,   0,   0,   0,   0,   0,  81,\n",
              "         240, 253, 253, 119,  25,   0,   0,   0,   0,   0,   0,   0,   0,   0],\n",
              "        [  0,   0,   0,   0,   0,   0,   0,   0,   0,   0,   0,   0,   0,   0,\n",
              "          45, 186, 253, 253, 150,  27,   0,   0,   0,   0,   0,   0,   0,   0],\n",
              "        [  0,   0,   0,   0,   0,   0,   0,   0,   0,   0,   0,   0,   0,   0,\n",
              "           0,  16,  93, 252, 253, 187,   0,   0,   0,   0,   0,   0,   0,   0],\n",
              "        [  0,   0,   0,   0,   0,   0,   0,   0,   0,   0,   0,   0,   0,   0,\n",
              "           0,   0,   0, 249, 253, 249,  64,   0,   0,   0,   0,   0,   0,   0],\n",
              "        [  0,   0,   0,   0,   0,   0,   0,   0,   0,   0,   0,   0,   0,   0,\n",
              "          46, 130, 183, 253, 253, 207,   2,   0,   0,   0,   0,   0,   0,   0],\n",
              "        [  0,   0,   0,   0,   0,   0,   0,   0,   0,   0,   0,   0,  39, 148,\n",
              "         229, 253, 253, 253, 250, 182,   0,   0,   0,   0,   0,   0,   0,   0],\n",
              "        [  0,   0,   0,   0,   0,   0,   0,   0,   0,   0,  24, 114, 221, 253,\n",
              "         253, 253, 253, 201,  78,   0,   0,   0,   0,   0,   0,   0,   0,   0],\n",
              "        [  0,   0,   0,   0,   0,   0,   0,   0,  23,  66, 213, 253, 253, 253,\n",
              "         253, 198,  81,   2,   0,   0,   0,   0,   0,   0,   0,   0,   0,   0],\n",
              "        [  0,   0,   0,   0,   0,   0,  18, 171, 219, 253, 253, 253, 253, 195,\n",
              "          80,   9,   0,   0,   0,   0,   0,   0,   0,   0,   0,   0,   0,   0],\n",
              "        [  0,   0,   0,   0,  55, 172, 226, 253, 253, 253, 253, 244, 133,  11,\n",
              "           0,   0,   0,   0,   0,   0,   0,   0,   0,   0,   0,   0,   0,   0],\n",
              "        [  0,   0,   0,   0, 136, 253, 253, 253, 212, 135, 132,  16,   0,   0,\n",
              "           0,   0,   0,   0,   0,   0,   0,   0,   0,   0,   0,   0,   0,   0],\n",
              "        [  0,   0,   0,   0,   0,   0,   0,   0,   0,   0,   0,   0,   0,   0,\n",
              "           0,   0,   0,   0,   0,   0,   0,   0,   0,   0,   0,   0,   0,   0],\n",
              "        [  0,   0,   0,   0,   0,   0,   0,   0,   0,   0,   0,   0,   0,   0,\n",
              "           0,   0,   0,   0,   0,   0,   0,   0,   0,   0,   0,   0,   0,   0],\n",
              "        [  0,   0,   0,   0,   0,   0,   0,   0,   0,   0,   0,   0,   0,   0,\n",
              "           0,   0,   0,   0,   0,   0,   0,   0,   0,   0,   0,   0,   0,   0]],\n",
              "       dtype=torch.uint8)"
            ]
          },
          "metadata": {},
          "execution_count": 8
        }
      ]
    },
    {
      "cell_type": "code",
      "source": [
        "plt.imshow(dataset1.data[0], cmap='gray')"
      ],
      "metadata": {
        "colab": {
          "base_uri": "https://localhost:8080/",
          "height": 447
        },
        "id": "IEDF9Zq7JovB",
        "outputId": "737a83d5-f931-45ec-bf5b-039b176ae37a"
      },
      "execution_count": 9,
      "outputs": [
        {
          "output_type": "execute_result",
          "data": {
            "text/plain": [
              "<matplotlib.image.AxesImage at 0x7c96f2ea2980>"
            ]
          },
          "metadata": {},
          "execution_count": 9
        },
        {
          "output_type": "display_data",
          "data": {
            "text/plain": [
              "<Figure size 640x480 with 1 Axes>"
            ],
            "image/png": "[encoded data removed]"
          },
          "metadata": {}
        }
      ]
    },
    {
      "cell_type": "code",
      "source": [
        "plt.imshow(dataset[1][0].squeeze())"
      ],
      "metadata": {
        "colab": {
          "base_uri": "https://localhost:8080/",
          "height": 447
        },
        "id": "RrV5IsAsLSAr",
        "outputId": "7efb1bb0-8acb-4c0f-a458-eeaecada74fd"
      },
      "execution_count": 10,
      "outputs": [
        {
          "output_type": "execute_result",
          "data": {
            "text/plain": [
              "<matplotlib.image.AxesImage at 0x7c96f2de7610>"
            ]
          },
          "metadata": {},
          "execution_count": 10
        },
        {
          "output_type": "display_data",
          "data": {
            "text/plain": [
              "<Figure size 640x480 with 1 Axes>"
            ],
            "image/png": "[encoded data removed]"
          },
          "metadata": {}
        }
      ]
    },
    {
      "cell_type": "code",
      "source": [
        "batchsize = 100\n",
        "dataloader = DataLoader(dataset1, batchsize, True)"
      ],
      "metadata": {
        "id": "YcnxsIcvLrbJ"
      },
      "execution_count": 11,
      "outputs": []
    },
    {
      "cell_type": "code",
      "source": [
        "x, y = next(iter(dataloader))\n",
        "x.shape, y"
      ],
      "metadata": {
        "colab": {
          "base_uri": "https://localhost:8080/"
        },
        "id": "VW6PxHAhL-1e",
        "outputId": "fb7971a8-7840-4bb4-d854-8c9868c10a98"
      },
      "execution_count": 12,
      "outputs": [
        {
          "output_type": "execute_result",
          "data": {
            "text/plain": [
              "(torch.Size([100, 1, 28, 28]),\n",
              " tensor([0, 4, 1, 0, 3, 0, 9, 9, 4, 0, 5, 3, 1, 2, 9, 9, 6, 3, 8, 4, 9, 6, 8, 4,\n",
              "         8, 5, 7, 1, 0, 7, 4, 9, 2, 9, 5, 1, 0, 3, 9, 4, 6, 8, 3, 1, 7, 1, 0, 1,\n",
              "         6, 5, 0, 9, 5, 4, 2, 4, 9, 7, 0, 7, 6, 4, 3, 9, 9, 4, 3, 3, 8, 2, 4, 7,\n",
              "         4, 5, 6, 5, 5, 7, 9, 3, 4, 6, 1, 0, 4, 8, 9, 5, 1, 2, 4, 6, 9, 0, 1, 8,\n",
              "         9, 7, 1, 1]))"
            ]
          },
          "metadata": {},
          "execution_count": 12
        }
      ]
    },
    {
      "cell_type": "code",
      "source": [
        "img_grid = make_grid(x, 10)\n",
        "img_grid.shape # 280 + padding = 302 # 3 channels"
      ],
      "metadata": {
        "colab": {
          "base_uri": "https://localhost:8080/"
        },
        "id": "6ty2m598Mduj",
        "outputId": "29d4376f-a904-470f-c4f5-b29ca28407d5"
      },
      "execution_count": 13,
      "outputs": [
        {
          "output_type": "execute_result",
          "data": {
            "text/plain": [
              "torch.Size([3, 302, 302])"
            ]
          },
          "metadata": {},
          "execution_count": 13
        }
      ]
    },
    {
      "cell_type": "code",
      "source": [
        "plt.imshow(img_grid[0], cmap='gray')"
      ],
      "metadata": {
        "colab": {
          "base_uri": "https://localhost:8080/",
          "height": 452
        },
        "id": "8oHjdnNlM1yT",
        "outputId": "fcbe6c41-9103-4bea-979b-6df7887dc005"
      },
      "execution_count": 14,
      "outputs": [
        {
          "output_type": "execute_result",
          "data": {
            "text/plain": [
              "<matplotlib.image.AxesImage at 0x7c96f0cb3310>"
            ]
          },
          "metadata": {},
          "execution_count": 14
        },
        {
          "output_type": "display_data",
          "data": {
            "text/plain": [
              "<Figure size 640x480 with 1 Axes>"
            ],
            "image/png": "[encoded data removed]"
          },
          "metadata": {}
        }
      ]
    },
    {
      "cell_type": "markdown",
      "source": [
        "# **Models 🧠**"
      ],
      "metadata": {
        "id": "E7e5TW_SxgR8"
      }
    },
    {
      "cell_type": "markdown",
      "source": [
        "## Generator 💽"
      ],
      "metadata": {
        "id": "hI6d5K-HxS35"
      }
    },
    {
      "cell_type": "code",
      "execution_count": 15,
      "metadata": {
        "id": "FbIzeh9gL0C-"
      },
      "outputs": [],
      "source": [
        "class Generator(nn.Module):\n",
        "  def __init__(self, n=256):\n",
        "    super(Generator, self).__init__()\n",
        "    # self.layers = nn.ModuleList()\n",
        "    # for l in range(nlayers):\n",
        "    #   self.layers.append(nn.LazyLinear(out_features=neuron*(l+1)))\n",
        "\n",
        "    # in = noise of each size\n",
        "    self.fc1 = nn.LazyLinear(out_features=n)\n",
        "    self.fc2 = nn.LazyLinear(out_features=n*2)\n",
        "    self.fc3 = nn.LazyLinear(out_features=n*4)\n",
        "    self.fc4 = nn.LazyLinear(out_features=mnist_dim)\n",
        "\n",
        "  def forward(self, x):\n",
        "    x = F.leaky_relu(self.fc1(x), negative_slope=0.2)\n",
        "    x = F.leaky_relu(self.fc2(x), 0.2)\n",
        "    x = F.leaky_relu(self.fc3(x), 0.2)\n",
        "    y = torch.tanh(self.fc4(x))\n",
        "    return y"
      ]
    },
    {
      "cell_type": "code",
      "source": [
        "G = Generator(n_g)\n",
        "G"
      ],
      "metadata": {
        "colab": {
          "base_uri": "https://localhost:8080/"
        },
        "id": "Lz61IWi8QHF3",
        "outputId": "0bea7201-cddf-40eb-c115-4f8aca515e80"
      },
      "execution_count": 22,
      "outputs": [
        {
          "output_type": "stream",
          "name": "stderr",
          "text": [
            "/usr/local/lib/python3.10/dist-packages/torch/nn/modules/lazy.py:181: UserWarning: Lazy modules are a new feature under heavy development so changes to the API or functionality can happen at any moment.\n",
            "  warnings.warn('Lazy modules are a new feature under heavy development '\n"
          ]
        },
        {
          "output_type": "execute_result",
          "data": {
            "text/plain": [
              "Generator(\n",
              "  (fc1): LazyLinear(in_features=0, out_features=256, bias=True)\n",
              "  (fc2): LazyLinear(in_features=0, out_features=512, bias=True)\n",
              "  (fc3): LazyLinear(in_features=0, out_features=1024, bias=True)\n",
              "  (fc4): LazyLinear(in_features=0, out_features=784, bias=True)\n",
              ")"
            ]
          },
          "metadata": {},
          "execution_count": 22
        }
      ]
    },
    {
      "cell_type": "code",
      "source": [
        "G(torch.randn(10, z_dim)).shape"
      ],
      "metadata": {
        "colab": {
          "base_uri": "https://localhost:8080/"
        },
        "id": "t6oXzYC5QOub",
        "outputId": "d8ee124d-5ec4-4dc8-acc7-ba9417f11638"
      },
      "execution_count": 23,
      "outputs": [
        {
          "output_type": "execute_result",
          "data": {
            "text/plain": [
              "torch.Size([10, 784])"
            ]
          },
          "metadata": {},
          "execution_count": 23
        }
      ]
    },
    {
      "cell_type": "markdown",
      "source": [
        "## Discriminator ⛓"
      ],
      "metadata": {
        "id": "UxI6chP5xnKz"
      }
    },
    {
      "cell_type": "code",
      "source": [
        "class Discriminator(nn.Module):\n",
        "  def __init__(self):\n",
        "    super(Discriminator, self).__init__()\n",
        "    # in = 784\n",
        "    self.fc1 = nn.LazyLinear(1024)\n",
        "    self.fc2 = nn.LazyLinear(512)\n",
        "    self.fc3 = nn.LazyLinear(256)\n",
        "    self.fc4 = nn.LazyLinear(1)\n",
        "\n",
        "  def forward(self, x):\n",
        "    x = F.dropout(F.leaky_relu(self.fc1(x), negative_slope=0.2), 0.3)\n",
        "    x = F.dropout(F.leaky_relu(self.fc2(x), negative_slope=0.2), 0.3)\n",
        "    x = F.dropout(F.leaky_relu(self.fc3(x), negative_slope=0.2), 0.3)\n",
        "    y = torch.sigmoid(self.fc4(x))\n",
        "    return y"
      ],
      "metadata": {
        "id": "yCnrnELyxmTG"
      },
      "execution_count": 24,
      "outputs": []
    },
    {
      "cell_type": "code",
      "source": [
        "D = Discriminator()\n",
        "D"
      ],
      "metadata": {
        "colab": {
          "base_uri": "https://localhost:8080/"
        },
        "id": "LEv-44-9SmKM",
        "outputId": "4b377125-6b15-4c34-8dbb-dba30f171a3a"
      },
      "execution_count": 25,
      "outputs": [
        {
          "output_type": "execute_result",
          "data": {
            "text/plain": [
              "Discriminator(\n",
              "  (fc1): LazyLinear(in_features=0, out_features=1024, bias=True)\n",
              "  (fc2): LazyLinear(in_features=0, out_features=512, bias=True)\n",
              "  (fc3): LazyLinear(in_features=0, out_features=256, bias=True)\n",
              "  (fc4): LazyLinear(in_features=0, out_features=1, bias=True)\n",
              ")"
            ]
          },
          "metadata": {},
          "execution_count": 25
        }
      ]
    },
    {
      "cell_type": "code",
      "source": [
        "xf = x.flatten(1)"
      ],
      "metadata": {
        "id": "ZKEGcVGNSo66"
      },
      "execution_count": 26,
      "outputs": []
    },
    {
      "cell_type": "code",
      "source": [
        "D(xf).shape"
      ],
      "metadata": {
        "colab": {
          "base_uri": "https://localhost:8080/"
        },
        "id": "xB8pFaFtS15w",
        "outputId": "b0d89b8d-fee8-4bfa-c752-8767bce966f4"
      },
      "execution_count": 27,
      "outputs": [
        {
          "output_type": "execute_result",
          "data": {
            "text/plain": [
              "torch.Size([100, 1])"
            ]
          },
          "metadata": {},
          "execution_count": 27
        }
      ]
    },
    {
      "cell_type": "markdown",
      "source": [
        "## Build models"
      ],
      "metadata": {
        "id": "SzLW8ZkHxzyp"
      }
    },
    {
      "cell_type": "code",
      "execution_count": 28,
      "metadata": {
        "id": "kbmE6l_bL0C_",
        "colab": {
          "base_uri": "https://localhost:8080/"
        },
        "outputId": "9a9a1238-1a0e-46da-8a99-3a3b9e211973"
      },
      "outputs": [
        {
          "output_type": "execute_result",
          "data": {
            "text/plain": [
              "Generator(\n",
              "  (fc1): LazyLinear(in_features=0, out_features=256, bias=True)\n",
              "  (fc2): LazyLinear(in_features=0, out_features=512, bias=True)\n",
              "  (fc3): LazyLinear(in_features=0, out_features=1024, bias=True)\n",
              "  (fc4): LazyLinear(in_features=0, out_features=784, bias=True)\n",
              ")"
            ]
          },
          "metadata": {},
          "execution_count": 28
        }
      ],
      "source": [
        "G = Generator().to(device)\n",
        "G"
      ]
    },
    {
      "cell_type": "code",
      "execution_count": 29,
      "metadata": {
        "id": "jDFoO0PfL0DC",
        "colab": {
          "base_uri": "https://localhost:8080/"
        },
        "outputId": "4afdc765-4842-4c2e-beaf-bea32daaa9b8"
      },
      "outputs": [
        {
          "output_type": "execute_result",
          "data": {
            "text/plain": [
              "Discriminator(\n",
              "  (fc1): LazyLinear(in_features=0, out_features=1024, bias=True)\n",
              "  (fc2): LazyLinear(in_features=0, out_features=512, bias=True)\n",
              "  (fc3): LazyLinear(in_features=0, out_features=256, bias=True)\n",
              "  (fc4): LazyLinear(in_features=0, out_features=1, bias=True)\n",
              ")"
            ]
          },
          "metadata": {},
          "execution_count": 29
        }
      ],
      "source": [
        "D = Discriminator().to(device)\n",
        "D"
      ]
    },
    {
      "cell_type": "markdown",
      "source": [
        "## **Loss & Optimizers ⏰**"
      ],
      "metadata": {
        "id": "WmU1gvZ5yVdi"
      }
    },
    {
      "cell_type": "code",
      "execution_count": 30,
      "metadata": {
        "id": "0kGcFDwLL0DD"
      },
      "outputs": [],
      "source": [
        "loss_fn = nn.BCELoss()"
      ]
    },
    {
      "cell_type": "code",
      "source": [
        "G_optimizer = optim.Adam(params=G.parameters(), lr=lr)\n",
        "D_optimizer = optim.Adam(params=D.parameters(), lr=lr)"
      ],
      "metadata": {
        "id": "puo65Sz7yg44"
      },
      "execution_count": 31,
      "outputs": []
    },
    {
      "cell_type": "markdown",
      "source": [
        "# **Train 🚅**"
      ],
      "metadata": {
        "id": "6NbfDB9e3z0s"
      }
    },
    {
      "cell_type": "code",
      "source": [
        "# real data\n",
        "x_real = x.flatten(1).to(device)\n",
        "y_real = torch.ones(batchsize, 1).to(device)\n",
        "\n",
        "# real -> D\n",
        "D_output = D(x_real)\n",
        "D_loss = loss_fn(D_output, y_real)\n",
        "\n",
        "# noise & fake label\n",
        "z = torch.randn(batchsize, z_dim).to(device)\n",
        "y_fake = torch.zeros(batchsize, 1).to(device)\n",
        "\n",
        "# fake data: noise -> G\n",
        "x_fake = G(z)\n",
        "\n",
        "# fake -> D\n",
        "G_output = D(x_fake)\n",
        "G_loss = loss_fn(G_output, y_fake)\n",
        "\n",
        "# total loss D\n",
        "D_loss = G_loss + D_loss\n",
        "\n",
        "# optimization\n",
        "D_loss.backward()\n",
        "D_optimizer.step()\n",
        "D_optimizer.zero_grad()"
      ],
      "metadata": {
        "id": "lQxGrrWMB9pw"
      },
      "execution_count": 32,
      "outputs": []
    },
    {
      "cell_type": "code",
      "source": [
        "loss_D_hist, loss_G_hist = [], []"
      ],
      "metadata": {
        "id": "M2F3PhNiIqIv"
      },
      "execution_count": 33,
      "outputs": []
    },
    {
      "cell_type": "code",
      "source": [
        "for epoch in range(n_epochs):\n",
        "  loss_D_avg, loss_G_avg = AverageMeter(), AverageMeter()\n",
        "  for x, _ in dataloader:\n",
        "    # --------------------------------------------------------------------------\n",
        "    # Discriminator\n",
        "    # --------------------------------------------------------------------------\n",
        "    D.zero_grad()\n",
        "    # D_optimizer.zero_grad()\n",
        "\n",
        "    # real data\n",
        "    x_real = x.flatten(1).to(device)\n",
        "    y_real = torch.ones(batchsize, 1).to(device)\n",
        "\n",
        "    # real -> D\n",
        "    D_output = D(x_real)\n",
        "    D_loss = loss_fn(D_output, y_real)\n",
        "\n",
        "    # noise & fake label\n",
        "    z = torch.randn(batchsize, z_dim).to(device)\n",
        "    y_fake = torch.zeros(batchsize, 1).to(device)\n",
        "\n",
        "    # fake data: noise -> G\n",
        "    x_fake = G(z)\n",
        "\n",
        "    # fake -> D\n",
        "    G_output = D(x_fake)\n",
        "    G_loss = loss_fn(G_output, y_fake)\n",
        "\n",
        "    # total loss D\n",
        "    D_loss = G_loss + D_loss\n",
        "\n",
        "    # optimization\n",
        "    D_loss.backward()\n",
        "    D_optimizer.step()\n",
        "\n",
        "    # --------------------------------------------------------------------------\n",
        "    # Generator\n",
        "    # --------------------------------------------------------------------------\n",
        "    G.zero_grad()\n",
        "    # G_optimizer.zero_grad()\n",
        "\n",
        "    # noise & real label\n",
        "    z = torch.randn(batchsize, z_dim).to(device)\n",
        "    y_real = torch.ones(batchsize, 1).to(device)\n",
        "\n",
        "    # noise -> G -> D\n",
        "    output = D(G(z))\n",
        "\n",
        "    # loss\n",
        "    G_loss = loss_fn(output, y_real)\n",
        "\n",
        "    # optimization\n",
        "    G_loss.backward()\n",
        "    G_optimizer.step()\n",
        "\n",
        "    loss_D_avg.update(D_loss.item())\n",
        "    loss_G_avg.update(G_loss.item())\n",
        "\n",
        "  loss_D_hist.append(loss_D_avg.avg)\n",
        "  loss_G_hist.append(loss_G_avg.avg)\n",
        "\n",
        "  with torch.no_grad():\n",
        "    bs = 64\n",
        "    z_test = torch.randn(bs, z_dim).to(device)\n",
        "    output = G(z_test)\n",
        "    save_image(output.view(bs, 1, 28, 28), f\"./images/gan-{epoch:3d}.png\")\n",
        "\n",
        "  print(f\"{epoch}/{n_epochs}: D Loss: {loss_D_avg.avg:.4f}, G Loss: {loss_G_avg.avg:.4f}\")"
      ],
      "metadata": {
        "id": "_cY2wItWIMm5",
        "colab": {
          "base_uri": "https://localhost:8080/"
        },
        "outputId": "4130520c-27c9-4435-9796-69726e719bab"
      },
      "execution_count": null,
      "outputs": [
        {
          "output_type": "stream",
          "name": "stdout",
          "text": [
            "0/400: D Loss: 1.1521, G Loss: 1.4842\n",
            "1/400: D Loss: 1.1137, G Loss: 1.6624\n",
            "2/400: D Loss: 0.7860, G Loss: 2.0845\n",
            "3/400: D Loss: 0.6066, G Loss: 2.4296\n",
            "4/400: D Loss: 0.5506, G Loss: 2.6065\n",
            "5/400: D Loss: 0.5170, G Loss: 2.7407\n",
            "6/400: D Loss: 0.6150, G Loss: 2.4303\n",
            "7/400: D Loss: 0.6415, G Loss: 2.2371\n",
            "8/400: D Loss: 0.6912, G Loss: 2.1947\n",
            "9/400: D Loss: 0.7879, G Loss: 1.8913\n",
            "10/400: D Loss: 0.7461, G Loss: 2.0698\n",
            "11/400: D Loss: 0.7585, G Loss: 2.0099\n",
            "12/400: D Loss: 0.7323, G Loss: 2.0233\n",
            "13/400: D Loss: 0.7613, G Loss: 1.9589\n",
            "14/400: D Loss: 0.8066, G Loss: 1.8945\n",
            "15/400: D Loss: 0.8404, G Loss: 1.7909\n",
            "16/400: D Loss: 0.8237, G Loss: 1.8047\n",
            "17/400: D Loss: 0.8433, G Loss: 1.7665\n",
            "18/400: D Loss: 0.8690, G Loss: 1.7056\n",
            "19/400: D Loss: 0.9176, G Loss: 1.6062\n",
            "20/400: D Loss: 0.9339, G Loss: 1.5474\n",
            "21/400: D Loss: 0.9281, G Loss: 1.5563\n",
            "22/400: D Loss: 0.9357, G Loss: 1.5646\n",
            "23/400: D Loss: 0.9333, G Loss: 1.5500\n",
            "24/400: D Loss: 0.9017, G Loss: 1.6348\n",
            "25/400: D Loss: 0.9467, G Loss: 1.5088\n",
            "26/400: D Loss: 0.9637, G Loss: 1.4742\n",
            "27/400: D Loss: 0.9896, G Loss: 1.4323\n",
            "28/400: D Loss: 1.0430, G Loss: 1.3205\n",
            "29/400: D Loss: 1.0538, G Loss: 1.3114\n",
            "30/400: D Loss: 1.0236, G Loss: 1.3411\n",
            "31/400: D Loss: 1.0447, G Loss: 1.2987\n",
            "32/400: D Loss: 1.0443, G Loss: 1.3168\n",
            "33/400: D Loss: 1.0733, G Loss: 1.2507\n",
            "34/400: D Loss: 1.0708, G Loss: 1.2560\n",
            "35/400: D Loss: 1.1121, G Loss: 1.1867\n",
            "36/400: D Loss: 1.0968, G Loss: 1.1960\n",
            "37/400: D Loss: 1.0944, G Loss: 1.2299\n",
            "38/400: D Loss: 1.1126, G Loss: 1.1932\n",
            "39/400: D Loss: 1.1227, G Loss: 1.1479\n"
          ]
        }
      ]
    },
    {
      "cell_type": "markdown",
      "source": [
        "# **Evaluation ❓**"
      ],
      "metadata": {
        "id": "be9zZe4Q4m2g"
      }
    },
    {
      "cell_type": "code",
      "execution_count": null,
      "metadata": {
        "id": "AqQd3SRUL0DG"
      },
      "outputs": [],
      "source": [
        "with torch.no_grad():\n",
        "  bs = 64\n",
        "  test_z = torch.randn(bs, z_dim).to(device)\n",
        "  outputs = G(test_z)\n",
        "  save_image(outputs.view(bs, 1, 28, 28), f'./images/gan.png')"
      ]
    },
    {
      "cell_type": "markdown",
      "source": [
        "# **Plot 📈**"
      ],
      "metadata": {
        "id": "oK20iNRI3Xxb"
      }
    },
    {
      "cell_type": "code",
      "source": [
        "plt.plot(range(epoch+1), loss_G_hist, 'r-', label='Generator')\n",
        "plt.plot(range(epoch+1), loss_D_hist, 'b-', label='Discriminator')\n",
        "\n",
        "plt.xlabel('Epoch')\n",
        "plt.ylabel('loss')\n",
        "plt.grid(True)\n",
        "plt.legend()"
      ],
      "metadata": {
        "id": "KYFzTsdIOkVp",
        "colab": {
          "base_uri": "https://localhost:8080/",
          "height": 297
        },
        "outputId": "7a73b742-0f7f-413a-a6be-8e94e5830327"
      },
      "execution_count": null,
      "outputs": [
        {
          "output_type": "execute_result",
          "data": {
            "text/plain": [
              "<matplotlib.legend.Legend at 0x1ac32368b80>"
            ]
          },
          "metadata": {},
          "execution_count": 36
        },
        {
          "output_type": "display_data",
          "data": {
            "text/plain": [
              "<Figure size 432x288 with 1 Axes>"
            ],
            "image/png": "[encoded data removed]"
          },
          "metadata": {
            "needs_background": "light"
          }
        }
      ]
    }
  ],
  "metadata": {
    "kernelspec": {
      "display_name": "Python 3",
      "name": "python3"
    },
    "language_info": {
      "codemirror_mode": {
        "name": "ipython",
        "version": 3
      },
      "file_extension": ".py",
      "mimetype": "text/x-python",
      "name": "python",
      "nbconvert_exporter": "python",
      "pygments_lexer": "ipython3",
      "version": "3.5.4"
    },
    "colab": {
      "provenance": [],
      "collapsed_sections": [
        "fQFlVvECeZsD",
        "mbpEEA0g1-Be",
        "GsREJ2g7pP7X",
        "E7e5TW_SxgR8",
        "SzLW8ZkHxzyp",
        "WmU1gvZ5yVdi",
        "be9zZe4Q4m2g",
        "oK20iNRI3Xxb"
      ]
    }
  },
  "nbformat": 4,
  "nbformat_minor": 0
}