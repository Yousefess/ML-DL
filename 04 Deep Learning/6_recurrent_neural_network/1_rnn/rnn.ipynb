{
  "cells": [
    {
      "cell_type": "markdown",
      "metadata": {
        "id": "qL0K8Z91OMxx"
      },
      "source": [
        "# **Google Drive**"
      ]
    },
    {
      "cell_type": "code",
      "execution_count": 1,
      "metadata": {
        "colab": {
          "base_uri": "https://localhost:8080/"
        },
        "id": "15iVUBqk9Fyo",
        "outputId": "fc3674aa-d3cc-4522-f4f5-789751179bd7"
      },
      "outputs": [
        {
          "name": "stdout",
          "output_type": "stream",
          "text": [
            "Mounted at /content/drive\n"
          ]
        }
      ],
      "source": [
        "from google.colab import drive\n",
        "drive.mount('/content/drive')"
      ]
    },
    {
      "cell_type": "markdown",
      "metadata": {
        "id": "ubp9lSqgJUx7"
      },
      "source": [
        "## **GPU**"
      ]
    },
    {
      "cell_type": "markdown",
      "metadata": {
        "id": "qMUndHRpXT6B"
      },
      "source": [
        "jupyter notebook --NotebookApp.allow_origin='https://colab.research.google.com' --port=4000 --NotebookApp.port_retries=0"
      ]
    },
    {
      "cell_type": "code",
      "execution_count": 2,
      "metadata": {
        "colab": {
          "base_uri": "https://localhost:8080/"
        },
        "id": "FvB2dRFFJZqK",
        "outputId": "303e4e34-8e33-4a13-cc19-7bcbe760fe76"
      },
      "outputs": [
        {
          "name": "stdout",
          "output_type": "stream",
          "text": [
            "Sat Aug  3 14:48:55 2024       \n",
            "+---------------------------------------------------------------------------------------+\n",
            "| NVIDIA-SMI 535.104.05             Driver Version: 535.104.05   CUDA Version: 12.2     |\n",
            "|-----------------------------------------+----------------------+----------------------+\n",
            "| GPU  Name                 Persistence-M | Bus-Id        Disp.A | Volatile Uncorr. ECC |\n",
            "| Fan  Temp   Perf          Pwr:Usage/Cap |         Memory-Usage | GPU-Util  Compute M. |\n",
            "|                                         |                      |               MIG M. |\n",
            "|=========================================+======================+======================|\n",
            "|   0  Tesla T4                       Off | 00000000:00:04.0 Off |                    0 |\n",
            "| N/A   38C    P8               9W /  70W |      0MiB / 15360MiB |      0%      Default |\n",
            "|                                         |                      |                  N/A |\n",
            "+-----------------------------------------+----------------------+----------------------+\n",
            "                                                                                         \n",
            "+---------------------------------------------------------------------------------------+\n",
            "| Processes:                                                                            |\n",
            "|  GPU   GI   CI        PID   Type   Process name                            GPU Memory |\n",
            "|        ID   ID                                                             Usage      |\n",
            "|=======================================================================================|\n",
            "|  No running processes found                                                           |\n",
            "+---------------------------------------------------------------------------------------+\n"
          ]
        }
      ],
      "source": [
        "!nvidia-smi"
      ]
    },
    {
      "cell_type": "markdown",
      "metadata": {
        "id": "ELwgzDfGFXvr"
      },
      "source": [
        "# **Install**"
      ]
    },
    {
      "cell_type": "code",
      "execution_count": 3,
      "metadata": {
        "colab": {
          "base_uri": "https://localhost:8080/"
        },
        "id": "dQ9OIgAs4iWa",
        "outputId": "47d628ba-79f4-4c67-d8b8-31821afe2819"
      },
      "outputs": [
        {
          "name": "stdout",
          "output_type": "stream",
          "text": [
            "Collecting torchmetrics\n",
            "  Downloading torchmetrics-1.4.1-py3-none-any.whl.metadata (20 kB)\n",
            "Requirement already satisfied: numpy>1.20.0 in /usr/local/lib/python3.10/dist-packages (from torchmetrics) (1.26.4)\n",
            "Requirement already satisfied: packaging>17.1 in /usr/local/lib/python3.10/dist-packages (from torchmetrics) (24.1)\n",
            "Requirement already satisfied: torch>=1.10.0 in /usr/local/lib/python3.10/dist-packages (from torchmetrics) (2.3.1+cu121)\n",
            "Collecting lightning-utilities>=0.8.0 (from torchmetrics)\n",
            "  Downloading lightning_utilities-0.11.6-py3-none-any.whl.metadata (5.2 kB)\n",
            "Requirement already satisfied: setuptools in /usr/local/lib/python3.10/dist-packages (from lightning-utilities>=0.8.0->torchmetrics) (71.0.4)\n",
            "Requirement already satisfied: typing-extensions in /usr/local/lib/python3.10/dist-packages (from lightning-utilities>=0.8.0->torchmetrics) (4.12.2)\n",
            "Requirement already satisfied: filelock in /usr/local/lib/python3.10/dist-packages (from torch>=1.10.0->torchmetrics) (3.15.4)\n",
            "Requirement already satisfied: sympy in /usr/local/lib/python3.10/dist-packages (from torch>=1.10.0->torchmetrics) (1.13.1)\n",
            "Requirement already satisfied: networkx in /usr/local/lib/python3.10/dist-packages (from torch>=1.10.0->torchmetrics) (3.3)\n",
            "Requirement already satisfied: jinja2 in /usr/local/lib/python3.10/dist-packages (from torch>=1.10.0->torchmetrics) (3.1.4)\n",
            "Requirement already satisfied: fsspec in /usr/local/lib/python3.10/dist-packages (from torch>=1.10.0->torchmetrics) (2024.6.1)\n",
            "Collecting nvidia-cuda-nvrtc-cu12==12.1.105 (from torch>=1.10.0->torchmetrics)\n",
            "  Using cached nvidia_cuda_nvrtc_cu12-12.1.105-py3-none-manylinux1_x86_64.whl.metadata (1.5 kB)\n",
            "Collecting nvidia-cuda-runtime-cu12==12.1.105 (from torch>=1.10.0->torchmetrics)\n",
            "  Using cached nvidia_cuda_runtime_cu12-12.1.105-py3-none-manylinux1_x86_64.whl.metadata (1.5 kB)\n",
            "Collecting nvidia-cuda-cupti-cu12==12.1.105 (from torch>=1.10.0->torchmetrics)\n",
            "  Using cached nvidia_cuda_cupti_cu12-12.1.105-py3-none-manylinux1_x86_64.whl.metadata (1.6 kB)\n",
            "Collecting nvidia-cudnn-cu12==8.9.2.26 (from torch>=1.10.0->torchmetrics)\n",
            "  Using cached nvidia_cudnn_cu12-8.9.2.26-py3-none-manylinux1_x86_64.whl.metadata (1.6 kB)\n",
            "Collecting nvidia-cublas-cu12==12.1.3.1 (from torch>=1.10.0->torchmetrics)\n",
            "  Using cached nvidia_cublas_cu12-12.1.3.1-py3-none-manylinux1_x86_64.whl.metadata (1.5 kB)\n",
            "Collecting nvidia-cufft-cu12==11.0.2.54 (from torch>=1.10.0->torchmetrics)\n",
            "  Using cached nvidia_cufft_cu12-11.0.2.54-py3-none-manylinux1_x86_64.whl.metadata (1.5 kB)\n",
            "Collecting nvidia-curand-cu12==10.3.2.106 (from torch>=1.10.0->torchmetrics)\n",
            "  Using cached nvidia_curand_cu12-10.3.2.106-py3-none-manylinux1_x86_64.whl.metadata (1.5 kB)\n",
            "Collecting nvidia-cusolver-cu12==11.4.5.107 (from torch>=1.10.0->torchmetrics)\n",
            "  Using cached nvidia_cusolver_cu12-11.4.5.107-py3-none-manylinux1_x86_64.whl.metadata (1.6 kB)\n",
            "Collecting nvidia-cusparse-cu12==12.1.0.106 (from torch>=1.10.0->torchmetrics)\n",
            "  Using cached nvidia_cusparse_cu12-12.1.0.106-py3-none-manylinux1_x86_64.whl.metadata (1.6 kB)\n",
            "Collecting nvidia-nccl-cu12==2.20.5 (from torch>=1.10.0->torchmetrics)\n",
            "  Using cached nvidia_nccl_cu12-2.20.5-py3-none-manylinux2014_x86_64.whl.metadata (1.8 kB)\n",
            "Collecting nvidia-nvtx-cu12==12.1.105 (from torch>=1.10.0->torchmetrics)\n",
            "  Using cached nvidia_nvtx_cu12-12.1.105-py3-none-manylinux1_x86_64.whl.metadata (1.7 kB)\n",
            "Requirement already satisfied: triton==2.3.1 in /usr/local/lib/python3.10/dist-packages (from torch>=1.10.0->torchmetrics) (2.3.1)\n",
            "Collecting nvidia-nvjitlink-cu12 (from nvidia-cusolver-cu12==11.4.5.107->torch>=1.10.0->torchmetrics)\n",
            "  Downloading nvidia_nvjitlink_cu12-12.6.20-py3-none-manylinux2014_x86_64.whl.metadata (1.5 kB)\n",
            "Requirement already satisfied: MarkupSafe>=2.0 in /usr/local/lib/python3.10/dist-packages (from jinja2->torch>=1.10.0->torchmetrics) (2.1.5)\n",
            "Requirement already satisfied: mpmath<1.4,>=1.1.0 in /usr/local/lib/python3.10/dist-packages (from sympy->torch>=1.10.0->torchmetrics) (1.3.0)\n",
            "Downloading torchmetrics-1.4.1-py3-none-any.whl (866 kB)\n",
            "\u001b[2K   \u001b[90m━━━━━━━━━━━━━━━━━━━━━━━━━━━━━━━━━━━━━━━━\u001b[0m \u001b[32m866.2/866.2 kB\u001b[0m \u001b[31m24.1 MB/s\u001b[0m eta \u001b[36m0:00:00\u001b[0m\n",
            "\u001b[?25hDownloading lightning_utilities-0.11.6-py3-none-any.whl (26 kB)\n",
            "Using cached nvidia_cublas_cu12-12.1.3.1-py3-none-manylinux1_x86_64.whl (410.6 MB)\n",
            "Using cached nvidia_cuda_cupti_cu12-12.1.105-py3-none-manylinux1_x86_64.whl (14.1 MB)\n",
            "Using cached nvidia_cuda_nvrtc_cu12-12.1.105-py3-none-manylinux1_x86_64.whl (23.7 MB)\n",
            "Using cached nvidia_cuda_runtime_cu12-12.1.105-py3-none-manylinux1_x86_64.whl (823 kB)\n",
            "Using cached nvidia_cudnn_cu12-8.9.2.26-py3-none-manylinux1_x86_64.whl (731.7 MB)\n",
            "Using cached nvidia_cufft_cu12-11.0.2.54-py3-none-manylinux1_x86_64.whl (121.6 MB)\n",
            "Using cached nvidia_curand_cu12-10.3.2.106-py3-none-manylinux1_x86_64.whl (56.5 MB)\n",
            "Using cached nvidia_cusolver_cu12-11.4.5.107-py3-none-manylinux1_x86_64.whl (124.2 MB)\n",
            "Using cached nvidia_cusparse_cu12-12.1.0.106-py3-none-manylinux1_x86_64.whl (196.0 MB)\n",
            "Using cached nvidia_nccl_cu12-2.20.5-py3-none-manylinux2014_x86_64.whl (176.2 MB)\n",
            "Using cached nvidia_nvtx_cu12-12.1.105-py3-none-manylinux1_x86_64.whl (99 kB)\n",
            "Downloading nvidia_nvjitlink_cu12-12.6.20-py3-none-manylinux2014_x86_64.whl (19.7 MB)\n",
            "\u001b[2K   \u001b[90m━━━━━━━━━━━━━━━━━━━━━━━━━━━━━━━━━━━━━━━━\u001b[0m \u001b[32m19.7/19.7 MB\u001b[0m \u001b[31m22.1 MB/s\u001b[0m eta \u001b[36m0:00:00\u001b[0m\n",
            "\u001b[?25hInstalling collected packages: nvidia-nvtx-cu12, nvidia-nvjitlink-cu12, nvidia-nccl-cu12, nvidia-curand-cu12, nvidia-cufft-cu12, nvidia-cuda-runtime-cu12, nvidia-cuda-nvrtc-cu12, nvidia-cuda-cupti-cu12, nvidia-cublas-cu12, lightning-utilities, nvidia-cusparse-cu12, nvidia-cudnn-cu12, nvidia-cusolver-cu12, torchmetrics\n",
            "Successfully installed lightning-utilities-0.11.6 nvidia-cublas-cu12-12.1.3.1 nvidia-cuda-cupti-cu12-12.1.105 nvidia-cuda-nvrtc-cu12-12.1.105 nvidia-cuda-runtime-cu12-12.1.105 nvidia-cudnn-cu12-8.9.2.26 nvidia-cufft-cu12-11.0.2.54 nvidia-curand-cu12-10.3.2.106 nvidia-cusolver-cu12-11.4.5.107 nvidia-cusparse-cu12-12.1.0.106 nvidia-nccl-cu12-2.20.5 nvidia-nvjitlink-cu12-12.6.20 nvidia-nvtx-cu12-12.1.105 torchmetrics-1.4.1\n"
          ]
        }
      ],
      "source": [
        "!pip install torchmetrics"
      ]
    },
    {
      "cell_type": "markdown",
      "metadata": {
        "id": "fQFlVvECeZsD"
      },
      "source": [
        "# **Imports 📢**"
      ]
    },
    {
      "cell_type": "code",
      "execution_count": 4,
      "metadata": {
        "id": "Jnc2LOc9eRjD"
      },
      "outputs": [],
      "source": [
        "import torch\n",
        "import torch.nn as nn\n",
        "import torch.optim as optim\n",
        "import torch.nn.functional as F\n",
        "from torch.utils.data import TensorDataset, DataLoader, random_split\n",
        "import torch.backends.cudnn as cudnn\n",
        "\n",
        "from sklearn.model_selection import train_test_split\n",
        "import matplotlib.pyplot as plt\n",
        "import numpy as np\n",
        "import pandas as pd\n",
        "\n",
        "from torchmetrics import Accuracy\n",
        "from tqdm import tqdm\n",
        "\n",
        "import glob"
      ]
    },
    {
      "cell_type": "markdown",
      "metadata": {
        "id": "OsNaqujTeiGx"
      },
      "source": [
        "# **Dataset 🗂️**"
      ]
    },
    {
      "cell_type": "markdown",
      "metadata": {
        "id": "MHXCDiv6vVv0"
      },
      "source": [
        "## Load dataset"
      ]
    },
    {
      "cell_type": "code",
      "execution_count": 6,
      "metadata": {
        "colab": {
          "base_uri": "https://localhost:8080/"
        },
        "id": "UcwR1dCR-gWB",
        "outputId": "7fae5d35-ae74-4bfb-a1a3-305e674c0ba6"
      },
      "outputs": [
        {
          "name": "stdout",
          "output_type": "stream",
          "text": [
            "Archive:  /content/UCI HAR Dataset.zip\n",
            "   creating: UCI HAR Dataset/\n",
            "  inflating: UCI HAR Dataset/.DS_Store  \n",
            "   creating: __MACOSX/\n",
            "   creating: __MACOSX/UCI HAR Dataset/\n",
            "  inflating: __MACOSX/UCI HAR Dataset/._.DS_Store  \n",
            "  inflating: UCI HAR Dataset/activity_labels.txt  \n",
            "  inflating: __MACOSX/UCI HAR Dataset/._activity_labels.txt  \n",
            "  inflating: UCI HAR Dataset/features.txt  \n",
            "  inflating: __MACOSX/UCI HAR Dataset/._features.txt  \n",
            "  inflating: UCI HAR Dataset/features_info.txt  \n",
            "  inflating: __MACOSX/UCI HAR Dataset/._features_info.txt  \n",
            "  inflating: UCI HAR Dataset/README.txt  \n",
            "  inflating: __MACOSX/UCI HAR Dataset/._README.txt  \n",
            "   creating: UCI HAR Dataset/test/\n",
            "   creating: UCI HAR Dataset/test/Inertial Signals/\n",
            "  inflating: UCI HAR Dataset/test/Inertial Signals/body_acc_x_test.txt  \n",
            "   creating: __MACOSX/UCI HAR Dataset/test/\n",
            "   creating: __MACOSX/UCI HAR Dataset/test/Inertial Signals/\n",
            "  inflating: __MACOSX/UCI HAR Dataset/test/Inertial Signals/._body_acc_x_test.txt  \n",
            "  inflating: UCI HAR Dataset/test/Inertial Signals/body_acc_y_test.txt  \n",
            "  inflating: __MACOSX/UCI HAR Dataset/test/Inertial Signals/._body_acc_y_test.txt  \n",
            "  inflating: UCI HAR Dataset/test/Inertial Signals/body_acc_z_test.txt  \n",
            "  inflating: __MACOSX/UCI HAR Dataset/test/Inertial Signals/._body_acc_z_test.txt  \n",
            "  inflating: UCI HAR Dataset/test/Inertial Signals/body_gyro_x_test.txt  \n",
            "  inflating: __MACOSX/UCI HAR Dataset/test/Inertial Signals/._body_gyro_x_test.txt  \n",
            "  inflating: UCI HAR Dataset/test/Inertial Signals/body_gyro_y_test.txt  \n",
            "  inflating: __MACOSX/UCI HAR Dataset/test/Inertial Signals/._body_gyro_y_test.txt  \n",
            "  inflating: UCI HAR Dataset/test/Inertial Signals/body_gyro_z_test.txt  \n",
            "  inflating: __MACOSX/UCI HAR Dataset/test/Inertial Signals/._body_gyro_z_test.txt  \n",
            "  inflating: UCI HAR Dataset/test/Inertial Signals/total_acc_x_test.txt  \n",
            "  inflating: __MACOSX/UCI HAR Dataset/test/Inertial Signals/._total_acc_x_test.txt  \n",
            "  inflating: UCI HAR Dataset/test/Inertial Signals/total_acc_y_test.txt  \n",
            "  inflating: __MACOSX/UCI HAR Dataset/test/Inertial Signals/._total_acc_y_test.txt  \n",
            "  inflating: UCI HAR Dataset/test/Inertial Signals/total_acc_z_test.txt  \n",
            "  inflating: __MACOSX/UCI HAR Dataset/test/Inertial Signals/._total_acc_z_test.txt  \n",
            "  inflating: __MACOSX/UCI HAR Dataset/test/._Inertial Signals  \n",
            "  inflating: UCI HAR Dataset/test/subject_test.txt  \n",
            "  inflating: __MACOSX/UCI HAR Dataset/test/._subject_test.txt  \n",
            "  inflating: UCI HAR Dataset/test/X_test.txt  \n",
            "  inflating: __MACOSX/UCI HAR Dataset/test/._X_test.txt  \n",
            "  inflating: UCI HAR Dataset/test/y_test.txt  \n",
            "  inflating: __MACOSX/UCI HAR Dataset/test/._y_test.txt  \n",
            "  inflating: __MACOSX/UCI HAR Dataset/._test  \n",
            "   creating: UCI HAR Dataset/train/\n",
            "   creating: UCI HAR Dataset/train/Inertial Signals/\n",
            "  inflating: UCI HAR Dataset/train/Inertial Signals/body_acc_x_train.txt  \n",
            "   creating: __MACOSX/UCI HAR Dataset/train/\n",
            "   creating: __MACOSX/UCI HAR Dataset/train/Inertial Signals/\n",
            "  inflating: __MACOSX/UCI HAR Dataset/train/Inertial Signals/._body_acc_x_train.txt  \n",
            "  inflating: UCI HAR Dataset/train/Inertial Signals/body_acc_y_train.txt  \n",
            "  inflating: __MACOSX/UCI HAR Dataset/train/Inertial Signals/._body_acc_y_train.txt  \n",
            "  inflating: UCI HAR Dataset/train/Inertial Signals/body_acc_z_train.txt  \n",
            "  inflating: __MACOSX/UCI HAR Dataset/train/Inertial Signals/._body_acc_z_train.txt  \n",
            "  inflating: UCI HAR Dataset/train/Inertial Signals/body_gyro_x_train.txt  \n",
            "  inflating: __MACOSX/UCI HAR Dataset/train/Inertial Signals/._body_gyro_x_train.txt  \n",
            "  inflating: UCI HAR Dataset/train/Inertial Signals/body_gyro_y_train.txt  \n",
            "  inflating: __MACOSX/UCI HAR Dataset/train/Inertial Signals/._body_gyro_y_train.txt  \n",
            "  inflating: UCI HAR Dataset/train/Inertial Signals/body_gyro_z_train.txt  \n",
            "  inflating: __MACOSX/UCI HAR Dataset/train/Inertial Signals/._body_gyro_z_train.txt  \n",
            "  inflating: UCI HAR Dataset/train/Inertial Signals/total_acc_x_train.txt  \n",
            "  inflating: __MACOSX/UCI HAR Dataset/train/Inertial Signals/._total_acc_x_train.txt  \n",
            "  inflating: UCI HAR Dataset/train/Inertial Signals/total_acc_y_train.txt  \n",
            "  inflating: __MACOSX/UCI HAR Dataset/train/Inertial Signals/._total_acc_y_train.txt  \n",
            "  inflating: UCI HAR Dataset/train/Inertial Signals/total_acc_z_train.txt  \n",
            "  inflating: __MACOSX/UCI HAR Dataset/train/Inertial Signals/._total_acc_z_train.txt  \n",
            "  inflating: __MACOSX/UCI HAR Dataset/train/._Inertial Signals  \n",
            "  inflating: UCI HAR Dataset/train/subject_train.txt  \n",
            "  inflating: __MACOSX/UCI HAR Dataset/train/._subject_train.txt  \n",
            "  inflating: UCI HAR Dataset/train/X_train.txt  \n",
            "  inflating: __MACOSX/UCI HAR Dataset/train/._X_train.txt  \n",
            "  inflating: UCI HAR Dataset/train/y_train.txt  \n",
            "  inflating: __MACOSX/UCI HAR Dataset/train/._y_train.txt  \n",
            "  inflating: __MACOSX/UCI HAR Dataset/._train  \n",
            "  inflating: __MACOSX/._UCI HAR Dataset  \n"
          ]
        }
      ],
      "source": [
        "!unzip '/content/UCI HAR Dataset.zip'"
      ]
    },
    {
      "cell_type": "code",
      "execution_count": 7,
      "metadata": {
        "id": "L8h_EjJUvf2G"
      },
      "outputs": [],
      "source": [
        "data = np.loadtxt('/content/UCI HAR Dataset/train/Inertial Signals/body_acc_x_train.txt')"
      ]
    },
    {
      "cell_type": "code",
      "execution_count": 8,
      "metadata": {
        "colab": {
          "base_uri": "https://localhost:8080/"
        },
        "id": "_r1DZwdtWPXY",
        "outputId": "2658d200-c16c-45cb-dfe4-82a65f295024"
      },
      "outputs": [
        {
          "data": {
            "text/plain": [
              "(7352, 128)"
            ]
          },
          "execution_count": 8,
          "metadata": {},
          "output_type": "execute_result"
        }
      ],
      "source": [
        "data.shape  # (..., L)"
      ]
    },
    {
      "cell_type": "code",
      "execution_count": 9,
      "metadata": {
        "colab": {
          "base_uri": "https://localhost:8080/"
        },
        "id": "2kdkBt02WRC1",
        "outputId": "0f7b30a3-2fea-4dd3-e788-c1acecdc1e04"
      },
      "outputs": [
        {
          "data": {
            "text/plain": [
              "['total_acc_y_train.txt',\n",
              " 'total_acc_x_train.txt',\n",
              " 'total_acc_z_train.txt',\n",
              " 'body_gyro_y_train.txt',\n",
              " 'body_gyro_x_train.txt',\n",
              " 'body_gyro_z_train.txt',\n",
              " 'body_acc_x_train.txt',\n",
              " 'body_acc_z_train.txt',\n",
              " 'body_acc_y_train.txt']"
            ]
          },
          "execution_count": 9,
          "metadata": {},
          "output_type": "execute_result"
        }
      ],
      "source": [
        "import os\n",
        "\n",
        "os.listdir('/content/UCI HAR Dataset/train/Inertial Signals')"
      ]
    },
    {
      "cell_type": "code",
      "execution_count": 10,
      "metadata": {
        "id": "z84JQqYoWRKY"
      },
      "outputs": [],
      "source": [
        "train_data = []\n",
        "for file in glob.glob('/content/UCI HAR Dataset/train/Inertial Signals/*'):\n",
        "  train_data.append(np.loadtxt(file))"
      ]
    },
    {
      "cell_type": "code",
      "execution_count": 11,
      "metadata": {
        "colab": {
          "base_uri": "https://localhost:8080/"
        },
        "id": "s1AgmNTUWQ5i",
        "outputId": "0f8a1580-dcd0-4db1-9eff-73bd5e725719"
      },
      "outputs": [
        {
          "name": "stderr",
          "output_type": "stream",
          "text": [
            "<ipython-input-11-eaf04ece28ac>:1: UserWarning: Creating a tensor from a list of numpy.ndarrays is extremely slow. Please consider converting the list to a single numpy.ndarray with numpy.array() before converting to a tensor. (Triggered internally at ../torch/csrc/utils/tensor_new.cpp:274.)\n",
            "  torch.tensor(train_data).shape  # (F, N, L)\n"
          ]
        },
        {
          "data": {
            "text/plain": [
              "torch.Size([9, 7352, 128])"
            ]
          },
          "execution_count": 11,
          "metadata": {},
          "output_type": "execute_result"
        }
      ],
      "source": [
        "torch.tensor(train_data).shape  # (F, N, L)"
      ]
    },
    {
      "cell_type": "code",
      "execution_count": 12,
      "metadata": {
        "colab": {
          "base_uri": "https://localhost:8080/"
        },
        "id": "sRlYiC9AWQZT",
        "outputId": "4e3d99f4-5997-4f3c-ff92-46e4d5fe3c2f"
      },
      "outputs": [
        {
          "data": {
            "text/plain": [
              "torch.Size([7352, 128, 9])"
            ]
          },
          "execution_count": 12,
          "metadata": {},
          "output_type": "execute_result"
        }
      ],
      "source": [
        "torch.tensor(train_data).permute(1, 2, 0).shape"
      ]
    },
    {
      "cell_type": "code",
      "execution_count": 13,
      "metadata": {
        "id": "0xqvJ1IKaJC4"
      },
      "outputs": [],
      "source": [
        "def har_dataset(phase):\n",
        "  data_dir = f'/content/UCI HAR Dataset/{phase}/Inertial Signals/*'\n",
        "\n",
        "  x = []\n",
        "  for file in glob.glob(data_dir):\n",
        "    x.append(np.loadtxt(file))\n",
        "  y = np.loadtxt(f'/content/UCI HAR Dataset/{phase}/y_{phase}.txt')\n",
        "\n",
        "  x = torch.FloatTensor(x).permute(1, 2, 0)\n",
        "  y = torch.LongTensor(y) - 1\n",
        "  return x, y"
      ]
    },
    {
      "cell_type": "code",
      "execution_count": 14,
      "metadata": {
        "id": "XTIyR5rWbB6w"
      },
      "outputs": [],
      "source": [
        "x_train, y_train = har_dataset('train')\n",
        "x_test, y_test = har_dataset('test')"
      ]
    },
    {
      "cell_type": "code",
      "execution_count": 15,
      "metadata": {
        "colab": {
          "base_uri": "https://localhost:8080/"
        },
        "id": "1-7Emaesb5dn",
        "outputId": "9522ad51-faf3-4b83-84df-e0db4eb42752"
      },
      "outputs": [
        {
          "data": {
            "text/plain": [
              "(torch.Size([7352, 128, 9]),\n",
              " torch.Size([7352]),\n",
              " torch.Size([2947, 128, 9]),\n",
              " torch.Size([2947]))"
            ]
          },
          "execution_count": 15,
          "metadata": {},
          "output_type": "execute_result"
        }
      ],
      "source": [
        "x_train.shape, y_train.shape, x_test.shape, y_test.shape"
      ]
    },
    {
      "cell_type": "code",
      "execution_count": 16,
      "metadata": {
        "colab": {
          "base_uri": "https://localhost:8080/"
        },
        "id": "qm05eUhLbmNi",
        "outputId": "f8e11530-fe45-42c1-9ae8-3a6eb7c7b4b0"
      },
      "outputs": [
        {
          "data": {
            "text/plain": [
              "tensor([4, 4, 4,  ..., 1, 1, 1])"
            ]
          },
          "execution_count": 16,
          "metadata": {},
          "output_type": "execute_result"
        }
      ],
      "source": [
        "y_train"
      ]
    },
    {
      "cell_type": "code",
      "execution_count": 17,
      "metadata": {
        "colab": {
          "base_uri": "https://localhost:8080/"
        },
        "id": "kHo5mi6GbtAI",
        "outputId": "4a725073-9372-4105-b8b5-c68312153975"
      },
      "outputs": [
        {
          "data": {
            "text/plain": [
              "tensor([0, 1, 2, 3, 4, 5])"
            ]
          },
          "execution_count": 17,
          "metadata": {},
          "output_type": "execute_result"
        }
      ],
      "source": [
        "torch.unique(y_train)"
      ]
    },
    {
      "cell_type": "markdown",
      "metadata": {
        "id": "FpY1h4DZvHmc"
      },
      "source": [
        "## TensorDataset"
      ]
    },
    {
      "cell_type": "code",
      "execution_count": 18,
      "metadata": {
        "id": "q-1IcLDEqtzp"
      },
      "outputs": [],
      "source": [
        "train_set = TensorDataset(x_train, y_train)\n",
        "test_set = TensorDataset(x_test, y_test)"
      ]
    },
    {
      "cell_type": "markdown",
      "metadata": {
        "id": "3aQRTc6n7-hi"
      },
      "source": [
        "## DataLoader"
      ]
    },
    {
      "cell_type": "code",
      "execution_count": 19,
      "metadata": {
        "id": "MWf29MbO79gp"
      },
      "outputs": [],
      "source": [
        "train_loader = DataLoader(train_set, batch_size=64, shuffle=True)\n",
        "test_loader = DataLoader(test_set, batch_size=128, shuffle=False)"
      ]
    },
    {
      "cell_type": "code",
      "execution_count": 20,
      "metadata": {
        "colab": {
          "base_uri": "https://localhost:8080/"
        },
        "id": "gBAeQLxJusuD",
        "outputId": "5ae36721-1e70-4886-a782-602ecbf969dc"
      },
      "outputs": [
        {
          "name": "stdout",
          "output_type": "stream",
          "text": [
            "torch.Size([64, 128, 9])\n",
            "torch.Size([64])\n"
          ]
        }
      ],
      "source": [
        "x, y = next(iter(train_loader))\n",
        "print(x.shape) # (Tedad sample - tedad jomalat), (Tool sample - tool jomle - tedad kalame), (Feature)\n",
        "print(y.shape)"
      ]
    },
    {
      "cell_type": "markdown",
      "metadata": {
        "id": "aBJu19_uvqWW"
      },
      "source": [
        "## Visulaize"
      ]
    },
    {
      "cell_type": "code",
      "execution_count": 21,
      "metadata": {
        "colab": {
          "base_uri": "https://localhost:8080/",
          "height": 430
        },
        "id": "fg2QaG5EvbRz",
        "outputId": "d237dfc8-a9ce-4f3f-b694-75c2e4947c9a"
      },
      "outputs": [
        {
          "data": {
            "image/png": "[encoded data removed]",
            "text/plain": [
              "<Figure size 640x480 with 1 Axes>"
            ]
          },
          "metadata": {},
          "output_type": "display_data"
        }
      ],
      "source": [
        "plt.plot(x[19]);"
      ]
    },
    {
      "cell_type": "markdown",
      "metadata": {
        "id": "-NBcJXJkfgUI"
      },
      "source": [
        "# **Model 🧠**"
      ]
    },
    {
      "cell_type": "markdown",
      "metadata": {
        "id": "9Gp9bVOJPYFz"
      },
      "source": [
        "## RNN"
      ]
    },
    {
      "cell_type": "code",
      "execution_count": 57,
      "metadata": {
        "id": "xfJJch6PQ8jT"
      },
      "outputs": [],
      "source": [
        "model = nn.RNN(input_size=9, hidden_size=32, num_layers=1,\n",
        "               nonlinearity='tanh', bias=True, batch_first=True,\n",
        "               dropout=0.0, bidirectional=False)"
      ]
    },
    {
      "cell_type": "code",
      "execution_count": 58,
      "metadata": {
        "colab": {
          "base_uri": "https://localhost:8080/"
        },
        "id": "H3XYMIzMeC5V",
        "outputId": "76de1236-367a-4a3f-b91d-370d573b64cb"
      },
      "outputs": [
        {
          "data": {
            "text/plain": [
              "RNN(9, 32, batch_first=True)"
            ]
          },
          "execution_count": 58,
          "metadata": {},
          "output_type": "execute_result"
        }
      ],
      "source": [
        "model"
      ]
    },
    {
      "cell_type": "code",
      "execution_count": 59,
      "metadata": {
        "colab": {
          "base_uri": "https://localhost:8080/"
        },
        "id": "454DLeFIeDrg",
        "outputId": "8cfbcf58-d418-4d7d-bb8e-6c2b15f560c0"
      },
      "outputs": [
        {
          "data": {
            "text/plain": [
              "[[Parameter containing:\n",
              "  tensor([[ 1.1961e-01,  1.3054e-01,  1.4887e-01,  8.5652e-02, -1.1935e-01,\n",
              "            1.6800e-01,  1.2297e-01,  9.8801e-03, -6.0172e-02],\n",
              "          [-1.4234e-01, -1.1388e-01,  7.1711e-02,  2.7057e-02, -1.1226e-01,\n",
              "            9.8016e-02, -4.9738e-02, -1.5862e-01,  3.9999e-02],\n",
              "          [-1.2241e-01, -5.2479e-02,  1.6461e-01,  1.3339e-01, -1.2353e-01,\n",
              "            3.1831e-02,  1.7339e-01,  4.9499e-02, -4.9834e-02],\n",
              "          [ 1.6799e-01,  6.1412e-02, -7.2906e-02,  3.4188e-03, -9.6688e-02,\n",
              "            7.0023e-02, -5.8793e-02, -8.4896e-02, -2.8208e-02],\n",
              "          [ 1.1445e-01,  6.6119e-02, -1.6313e-01, -1.5385e-01, -6.9324e-02,\n",
              "           -1.6915e-02, -1.2476e-01, -3.1878e-02,  1.0671e-01],\n",
              "          [-1.1059e-01, -9.8803e-02, -1.7638e-01,  6.2898e-02, -1.2710e-02,\n",
              "            8.8120e-02, -9.6040e-02,  1.2532e-01,  5.2100e-03],\n",
              "          [-1.6078e-01,  1.0920e-01, -8.3268e-02,  4.5278e-02,  5.5151e-02,\n",
              "            6.4678e-02, -1.3296e-01,  9.7291e-02, -2.1454e-02],\n",
              "          [ 1.7447e-01, -4.2704e-02,  3.5185e-02, -1.1006e-01, -3.2132e-02,\n",
              "            1.3842e-01,  1.2084e-01, -2.4670e-02, -5.8034e-02],\n",
              "          [ 9.5939e-02,  1.2462e-01,  1.0534e-01,  1.0512e-01,  1.3475e-01,\n",
              "            7.1638e-02,  5.1401e-03,  1.2243e-01,  1.5871e-01],\n",
              "          [ 6.5280e-02,  9.8637e-02,  1.4177e-01,  3.2875e-02, -2.8115e-02,\n",
              "            3.6891e-02,  4.2464e-02,  1.7062e-01,  3.4187e-02],\n",
              "          [ 4.4402e-02, -4.0462e-02, -1.3832e-02,  6.7215e-02, -1.4198e-01,\n",
              "            1.5946e-01, -6.3593e-03,  8.0299e-02,  1.2808e-01],\n",
              "          [-1.1488e-01,  1.0124e-03,  9.1716e-02, -1.1109e-01,  1.6328e-01,\n",
              "           -6.9374e-02,  9.2945e-02, -3.7876e-02,  1.0333e-01],\n",
              "          [ 1.0261e-01,  1.1364e-01,  7.2388e-02, -3.5781e-02,  7.1349e-02,\n",
              "           -2.4267e-02, -1.0121e-01,  5.2388e-02, -1.3001e-01],\n",
              "          [-1.1683e-02, -1.3315e-01,  1.4814e-01, -6.5668e-02,  1.3606e-01,\n",
              "            1.3821e-01, -1.2571e-01,  4.2904e-02,  1.5674e-01],\n",
              "          [ 1.3075e-01,  1.6944e-01,  1.2444e-01,  4.6175e-02, -1.4518e-01,\n",
              "           -1.6295e-01,  5.3560e-02, -1.0562e-01, -1.7416e-01],\n",
              "          [ 1.2674e-01,  1.3849e-01,  1.5717e-01, -7.2232e-02, -2.0601e-02,\n",
              "            9.9687e-02,  7.3499e-02,  4.9375e-02,  1.2458e-01],\n",
              "          [ 3.1272e-02, -3.7001e-02,  9.6893e-02, -7.2364e-02, -1.4034e-01,\n",
              "           -5.7056e-02, -1.7275e-01, -9.2918e-02, -5.6670e-02],\n",
              "          [-1.6453e-01,  1.3801e-02, -5.4553e-04, -6.9180e-02, -1.5108e-01,\n",
              "           -7.2208e-02, -5.0442e-02, -9.7240e-02,  1.3157e-02],\n",
              "          [ 1.3868e-02, -6.2323e-02,  1.6978e-01, -1.3653e-01,  2.0007e-02,\n",
              "            7.2082e-02, -1.1130e-01,  1.5272e-01, -9.3666e-02],\n",
              "          [-4.6977e-02, -1.9049e-02, -1.2106e-03,  6.8892e-02, -1.0900e-02,\n",
              "            7.8922e-04, -5.9628e-02, -1.5667e-01,  1.3360e-01],\n",
              "          [-1.8617e-03, -1.4926e-01, -2.9520e-02,  1.4593e-01,  1.2965e-01,\n",
              "           -1.1102e-01,  4.2572e-02,  1.4089e-01, -2.7444e-02],\n",
              "          [ 1.7554e-01, -9.9723e-02,  1.7551e-01, -5.7592e-02,  5.2624e-02,\n",
              "            1.2957e-01,  1.0009e-01, -1.2537e-01, -7.1081e-02],\n",
              "          [ 1.6182e-01, -1.6679e-01, -1.7241e-01, -1.7499e-01,  1.6635e-01,\n",
              "            1.0454e-01,  1.6432e-02,  3.1437e-03, -1.7582e-01],\n",
              "          [-1.7141e-04,  1.4600e-01, -1.2150e-02, -1.3787e-01,  5.0181e-02,\n",
              "            1.2448e-01, -8.8393e-02,  1.7116e-01, -3.2627e-02],\n",
              "          [ 1.6880e-01, -6.2028e-02, -1.5549e-01,  1.0630e-01, -1.5685e-01,\n",
              "            8.6741e-03,  7.2141e-02, -1.5669e-01, -1.0056e-01],\n",
              "          [ 9.2761e-02, -1.3434e-01, -1.6258e-01, -1.3974e-01, -1.0156e-02,\n",
              "            9.6924e-02,  7.5593e-02,  1.4861e-01, -1.1818e-01],\n",
              "          [ 1.0503e-01, -3.0259e-02,  5.1678e-02, -7.5942e-02, -3.4675e-02,\n",
              "           -1.2835e-01, -1.3284e-01, -1.2201e-01, -1.6539e-01],\n",
              "          [ 3.4246e-02,  4.2897e-02,  1.3330e-02,  1.1901e-01,  1.6106e-01,\n",
              "           -1.6503e-01, -1.0383e-01,  1.5351e-01, -1.1627e-01],\n",
              "          [-7.5351e-02, -2.1079e-02,  1.3768e-01, -1.5605e-01, -1.2878e-01,\n",
              "           -1.4735e-01, -7.7040e-02,  1.4087e-01,  4.3546e-02],\n",
              "          [ 2.7341e-03, -6.6410e-02,  1.3502e-01,  7.1277e-03, -8.8210e-02,\n",
              "           -1.1426e-01,  1.6602e-01,  1.0869e-01, -1.0047e-01],\n",
              "          [ 1.3753e-01,  9.6295e-02,  1.5474e-01,  1.1057e-01,  1.5308e-01,\n",
              "           -7.1596e-02,  1.2516e-01, -5.9022e-02,  2.2317e-02],\n",
              "          [-8.6051e-02, -2.3946e-02,  1.0337e-02, -1.3748e-01,  8.7041e-02,\n",
              "            7.2684e-02,  5.2625e-02, -1.7231e-01, -4.8878e-02]],\n",
              "         requires_grad=True),\n",
              "  Parameter containing:\n",
              "  tensor([[-0.1702, -0.0765, -0.0908,  ...,  0.0715,  0.0944, -0.0026],\n",
              "          [-0.0120,  0.1157,  0.1675,  ..., -0.1027, -0.0759,  0.0991],\n",
              "          [ 0.1740,  0.0211, -0.0731,  ...,  0.1424, -0.0863, -0.1361],\n",
              "          ...,\n",
              "          [-0.0153,  0.0802, -0.1491,  ...,  0.0419, -0.0574,  0.0567],\n",
              "          [ 0.0675, -0.0944, -0.1540,  ...,  0.0667, -0.0646, -0.1185],\n",
              "          [-0.0078,  0.1627, -0.1306,  ...,  0.0869, -0.1746,  0.0763]],\n",
              "         requires_grad=True),\n",
              "  Parameter containing:\n",
              "  tensor([ 0.0560, -0.1627, -0.1067, -0.1746,  0.0140,  0.1589,  0.0850,  0.0389,\n",
              "          -0.0275, -0.1695, -0.0338, -0.1520, -0.1255, -0.0428,  0.0491, -0.1076,\n",
              "           0.0328, -0.0091,  0.1700, -0.1231,  0.1234,  0.0884,  0.0617, -0.1509,\n",
              "           0.0573,  0.1282,  0.0953, -0.1671,  0.0694, -0.1541,  0.0177,  0.0769],\n",
              "         requires_grad=True),\n",
              "  Parameter containing:\n",
              "  tensor([ 0.0705,  0.1041,  0.0434, -0.0467,  0.1763,  0.0695,  0.0232, -0.1752,\n",
              "          -0.0029, -0.0580,  0.0476, -0.1634,  0.1064, -0.0772,  0.0717,  0.0733,\n",
              "          -0.0190, -0.1325,  0.1360, -0.1103, -0.1133, -0.1685,  0.0333,  0.1545,\n",
              "          -0.0255,  0.1345,  0.1695,  0.0218,  0.0315, -0.0842, -0.0895,  0.1037],\n",
              "         requires_grad=True)]]"
            ]
          },
          "execution_count": 59,
          "metadata": {},
          "output_type": "execute_result"
        }
      ],
      "source": [
        "model.all_weights"
      ]
    },
    {
      "cell_type": "code",
      "execution_count": 60,
      "metadata": {
        "colab": {
          "base_uri": "https://localhost:8080/"
        },
        "id": "yHykUs1MeHKx",
        "outputId": "c2090320-267a-4634-c996-37dc2a6b4a75"
      },
      "outputs": [
        {
          "data": {
            "text/plain": [
              "(Parameter containing:\n",
              " tensor([ 0.0705,  0.1041,  0.0434, -0.0467,  0.1763,  0.0695,  0.0232, -0.1752,\n",
              "         -0.0029, -0.0580,  0.0476, -0.1634,  0.1064, -0.0772,  0.0717,  0.0733,\n",
              "         -0.0190, -0.1325,  0.1360, -0.1103, -0.1133, -0.1685,  0.0333,  0.1545,\n",
              "         -0.0255,  0.1345,  0.1695,  0.0218,  0.0315, -0.0842, -0.0895,  0.1037],\n",
              "        requires_grad=True),)"
            ]
          },
          "execution_count": 60,
          "metadata": {},
          "output_type": "execute_result"
        }
      ],
      "source": [
        "model.bias_hh_l0, # model.bias_hh_l0_reverse"
      ]
    },
    {
      "cell_type": "code",
      "execution_count": 61,
      "metadata": {
        "colab": {
          "base_uri": "https://localhost:8080/"
        },
        "id": "7TgPUUA9ePp_",
        "outputId": "318acef8-518e-4ba1-da32-49c6a425e73f"
      },
      "outputs": [
        {
          "data": {
            "text/plain": [
              "(Parameter containing:\n",
              " tensor([ 0.0560, -0.1627, -0.1067, -0.1746,  0.0140,  0.1589,  0.0850,  0.0389,\n",
              "         -0.0275, -0.1695, -0.0338, -0.1520, -0.1255, -0.0428,  0.0491, -0.1076,\n",
              "          0.0328, -0.0091,  0.1700, -0.1231,  0.1234,  0.0884,  0.0617, -0.1509,\n",
              "          0.0573,  0.1282,  0.0953, -0.1671,  0.0694, -0.1541,  0.0177,  0.0769],\n",
              "        requires_grad=True),)"
            ]
          },
          "execution_count": 61,
          "metadata": {},
          "output_type": "execute_result"
        }
      ],
      "source": [
        "model.bias_ih_l0, # model.bias_ih_l0_reverse"
      ]
    },
    {
      "cell_type": "code",
      "execution_count": 62,
      "metadata": {
        "colab": {
          "base_uri": "https://localhost:8080/"
        },
        "id": "GI5FcloueRx6",
        "outputId": "bda77ea9-4c50-48c2-9773-b831b840c186"
      },
      "outputs": [
        {
          "data": {
            "text/plain": [
              "torch.Size([32, 9])"
            ]
          },
          "execution_count": 62,
          "metadata": {},
          "output_type": "execute_result"
        }
      ],
      "source": [
        "model.weight_ih_l0.shape"
      ]
    },
    {
      "cell_type": "code",
      "execution_count": 63,
      "metadata": {
        "colab": {
          "base_uri": "https://localhost:8080/"
        },
        "id": "hrWvWedOeacY",
        "outputId": "cc0ab6dd-cb24-4b76-870e-681453a5a9c5"
      },
      "outputs": [
        {
          "data": {
            "text/plain": [
              "torch.Size([32, 32])"
            ]
          },
          "execution_count": 63,
          "metadata": {},
          "output_type": "execute_result"
        }
      ],
      "source": [
        "model.weight_hh_l0.shape"
      ]
    },
    {
      "cell_type": "code",
      "execution_count": 64,
      "metadata": {
        "colab": {
          "base_uri": "https://localhost:8080/"
        },
        "id": "U1o7PHRxedZr",
        "outputId": "daf9f0e6-2bfe-4507-e944-5c26a77ecf91"
      },
      "outputs": [
        {
          "data": {
            "text/plain": [
              "<generator object Module.parameters at 0x7dd9aa276dc0>"
            ]
          },
          "execution_count": 64,
          "metadata": {},
          "output_type": "execute_result"
        }
      ],
      "source": [
        "model.parameters()"
      ]
    },
    {
      "cell_type": "code",
      "execution_count": 69,
      "metadata": {
        "id": "n8YQAXsSfGUB"
      },
      "outputs": [],
      "source": [
        "outputs, hidden_state = model(x)"
      ]
    },
    {
      "cell_type": "code",
      "execution_count": 70,
      "metadata": {
        "colab": {
          "base_uri": "https://localhost:8080/"
        },
        "id": "gkpDNW-0fSVw",
        "outputId": "f4a8f449-66f4-4f57-95d2-28670fffeda8"
      },
      "outputs": [
        {
          "data": {
            "text/plain": [
              "torch.Size([1, 64, 32])"
            ]
          },
          "execution_count": 70,
          "metadata": {},
          "output_type": "execute_result"
        }
      ],
      "source": [
        "hidden_state.shape"
      ]
    },
    {
      "cell_type": "code",
      "execution_count": 71,
      "metadata": {
        "colab": {
          "base_uri": "https://localhost:8080/"
        },
        "id": "B-QVXpIGfHlc",
        "outputId": "224d2510-2869-4d1d-a5f3-576a4cd40c8b"
      },
      "outputs": [
        {
          "data": {
            "text/plain": [
              "torch.Size([64, 128, 32])"
            ]
          },
          "execution_count": 71,
          "metadata": {},
          "output_type": "execute_result"
        }
      ],
      "source": [
        "outputs.shape"
      ]
    },
    {
      "cell_type": "code",
      "execution_count": 72,
      "metadata": {
        "colab": {
          "base_uri": "https://localhost:8080/"
        },
        "id": "zLWcBIoefr5p",
        "outputId": "9c104c3a-729f-4d69-e9eb-08b22ceef3be"
      },
      "outputs": [
        {
          "name": "stdout",
          "output_type": "stream",
          "text": [
            "tensor([ 0.1706, -0.1716, -0.1984, -0.2160,  0.1802,  0.2066,  0.2272,  0.0050,\n",
            "         0.1834, -0.2514, -0.1136, -0.1900,  0.0708, -0.2937,  0.2784,  0.1773,\n",
            "        -0.0873, -0.1500,  0.2284, -0.3627, -0.1768, -0.1782, -0.0699, -0.1090,\n",
            "        -0.1406,  0.1120,  0.1314, -0.2160, -0.0130, -0.4691, -0.0166,  0.0098],\n",
            "       grad_fn=<SelectBackward0>)\n",
            "tensor([ 0.1706, -0.1716, -0.1984, -0.2160,  0.1802,  0.2066,  0.2272,  0.0050,\n",
            "         0.1834, -0.2514, -0.1136, -0.1900,  0.0708, -0.2937,  0.2784,  0.1773,\n",
            "        -0.0873, -0.1500,  0.2284, -0.3627, -0.1768, -0.1782, -0.0699, -0.1090,\n",
            "        -0.1406,  0.1120,  0.1314, -0.2160, -0.0130, -0.4691, -0.0166,  0.0098],\n",
            "       grad_fn=<SelectBackward0>)\n"
          ]
        }
      ],
      "source": [
        "print(outputs[0, -1])\n",
        "print(hidden_state[0, 0])"
      ]
    },
    {
      "cell_type": "code",
      "execution_count": 73,
      "metadata": {
        "id": "UbfAF_higE4S"
      },
      "outputs": [],
      "source": [
        "outputs, hn = model(x, torch.zeros(1, 64, 32))"
      ]
    },
    {
      "cell_type": "code",
      "execution_count": 74,
      "metadata": {
        "colab": {
          "base_uri": "https://localhost:8080/"
        },
        "id": "fV_OHQPehIMw",
        "outputId": "97536bcb-d7d0-48c7-e008-acf88882e5e9"
      },
      "outputs": [
        {
          "data": {
            "text/plain": [
              "torch.Size([64, 128, 32])"
            ]
          },
          "execution_count": 74,
          "metadata": {},
          "output_type": "execute_result"
        }
      ],
      "source": [
        "outputs.shape"
      ]
    },
    {
      "cell_type": "code",
      "execution_count": 75,
      "metadata": {
        "id": "-QX_y25ohtBb"
      },
      "outputs": [],
      "source": [
        "model = nn.Sequential(\n",
        "    nn.RNN(input_size=9, hidden_size=32, num_layers=1,\n",
        "    nonlinearity='tanh', bias=True, batch_first=True,\n",
        "    dropout=0.0, bidirectional=False),\n",
        "    nn.Linear(32, 6)\n",
        ")"
      ]
    },
    {
      "cell_type": "code",
      "execution_count": 76,
      "metadata": {
        "colab": {
          "base_uri": "https://localhost:8080/",
          "height": 287
        },
        "id": "_1ekuap0htwb",
        "outputId": "ed1da379-832c-47d2-a573-601c27c2d272"
      },
      "outputs": [
        {
          "ename": "TypeError",
          "evalue": "linear(): argument 'input' (position 1) must be Tensor, not tuple",
          "output_type": "error",
          "traceback": [
            "\u001b[0;31m---------------------------------------------------------------------------\u001b[0m",
            "\u001b[0;31mTypeError\u001b[0m                                 Traceback (most recent call last)",
            "\u001b[0;32m<ipython-input-76-bd0200007a4a>\u001b[0m in \u001b[0;36m<cell line: 1>\u001b[0;34m()\u001b[0m\n\u001b[0;32m----> 1\u001b[0;31m \u001b[0mmodel\u001b[0m\u001b[0;34m(\u001b[0m\u001b[0mx\u001b[0m\u001b[0;34m)\u001b[0m\u001b[0;34m\u001b[0m\u001b[0;34m\u001b[0m\u001b[0m\n\u001b[0m",
            "\u001b[0;32m/usr/local/lib/python3.10/dist-packages/torch/nn/modules/module.py\u001b[0m in \u001b[0;36m_wrapped_call_impl\u001b[0;34m(self, *args, **kwargs)\u001b[0m\n\u001b[1;32m   1530\u001b[0m             \u001b[0;32mreturn\u001b[0m \u001b[0mself\u001b[0m\u001b[0;34m.\u001b[0m\u001b[0m_compiled_call_impl\u001b[0m\u001b[0;34m(\u001b[0m\u001b[0;34m*\u001b[0m\u001b[0margs\u001b[0m\u001b[0;34m,\u001b[0m \u001b[0;34m**\u001b[0m\u001b[0mkwargs\u001b[0m\u001b[0;34m)\u001b[0m  \u001b[0;31m# type: ignore[misc]\u001b[0m\u001b[0;34m\u001b[0m\u001b[0;34m\u001b[0m\u001b[0m\n\u001b[1;32m   1531\u001b[0m         \u001b[0;32melse\u001b[0m\u001b[0;34m:\u001b[0m\u001b[0;34m\u001b[0m\u001b[0;34m\u001b[0m\u001b[0m\n\u001b[0;32m-> 1532\u001b[0;31m             \u001b[0;32mreturn\u001b[0m \u001b[0mself\u001b[0m\u001b[0;34m.\u001b[0m\u001b[0m_call_impl\u001b[0m\u001b[0;34m(\u001b[0m\u001b[0;34m*\u001b[0m\u001b[0margs\u001b[0m\u001b[0;34m,\u001b[0m \u001b[0;34m**\u001b[0m\u001b[0mkwargs\u001b[0m\u001b[0;34m)\u001b[0m\u001b[0;34m\u001b[0m\u001b[0;34m\u001b[0m\u001b[0m\n\u001b[0m\u001b[1;32m   1533\u001b[0m \u001b[0;34m\u001b[0m\u001b[0m\n\u001b[1;32m   1534\u001b[0m     \u001b[0;32mdef\u001b[0m \u001b[0m_call_impl\u001b[0m\u001b[0;34m(\u001b[0m\u001b[0mself\u001b[0m\u001b[0;34m,\u001b[0m \u001b[0;34m*\u001b[0m\u001b[0margs\u001b[0m\u001b[0;34m,\u001b[0m \u001b[0;34m**\u001b[0m\u001b[0mkwargs\u001b[0m\u001b[0;34m)\u001b[0m\u001b[0;34m:\u001b[0m\u001b[0;34m\u001b[0m\u001b[0;34m\u001b[0m\u001b[0m\n",
            "\u001b[0;32m/usr/local/lib/python3.10/dist-packages/torch/nn/modules/module.py\u001b[0m in \u001b[0;36m_call_impl\u001b[0;34m(self, *args, **kwargs)\u001b[0m\n\u001b[1;32m   1539\u001b[0m                 \u001b[0;32mor\u001b[0m \u001b[0m_global_backward_pre_hooks\u001b[0m \u001b[0;32mor\u001b[0m \u001b[0m_global_backward_hooks\u001b[0m\u001b[0;34m\u001b[0m\u001b[0;34m\u001b[0m\u001b[0m\n\u001b[1;32m   1540\u001b[0m                 or _global_forward_hooks or _global_forward_pre_hooks):\n\u001b[0;32m-> 1541\u001b[0;31m             \u001b[0;32mreturn\u001b[0m \u001b[0mforward_call\u001b[0m\u001b[0;34m(\u001b[0m\u001b[0;34m*\u001b[0m\u001b[0margs\u001b[0m\u001b[0;34m,\u001b[0m \u001b[0;34m**\u001b[0m\u001b[0mkwargs\u001b[0m\u001b[0;34m)\u001b[0m\u001b[0;34m\u001b[0m\u001b[0;34m\u001b[0m\u001b[0m\n\u001b[0m\u001b[1;32m   1542\u001b[0m \u001b[0;34m\u001b[0m\u001b[0m\n\u001b[1;32m   1543\u001b[0m         \u001b[0;32mtry\u001b[0m\u001b[0;34m:\u001b[0m\u001b[0;34m\u001b[0m\u001b[0;34m\u001b[0m\u001b[0m\n",
            "\u001b[0;32m/usr/local/lib/python3.10/dist-packages/torch/nn/modules/container.py\u001b[0m in \u001b[0;36mforward\u001b[0;34m(self, input)\u001b[0m\n\u001b[1;32m    215\u001b[0m     \u001b[0;32mdef\u001b[0m \u001b[0mforward\u001b[0m\u001b[0;34m(\u001b[0m\u001b[0mself\u001b[0m\u001b[0;34m,\u001b[0m \u001b[0minput\u001b[0m\u001b[0;34m)\u001b[0m\u001b[0;34m:\u001b[0m\u001b[0;34m\u001b[0m\u001b[0;34m\u001b[0m\u001b[0m\n\u001b[1;32m    216\u001b[0m         \u001b[0;32mfor\u001b[0m \u001b[0mmodule\u001b[0m \u001b[0;32min\u001b[0m \u001b[0mself\u001b[0m\u001b[0;34m:\u001b[0m\u001b[0;34m\u001b[0m\u001b[0;34m\u001b[0m\u001b[0m\n\u001b[0;32m--> 217\u001b[0;31m             \u001b[0minput\u001b[0m \u001b[0;34m=\u001b[0m \u001b[0mmodule\u001b[0m\u001b[0;34m(\u001b[0m\u001b[0minput\u001b[0m\u001b[0;34m)\u001b[0m\u001b[0;34m\u001b[0m\u001b[0;34m\u001b[0m\u001b[0m\n\u001b[0m\u001b[1;32m    218\u001b[0m         \u001b[0;32mreturn\u001b[0m \u001b[0minput\u001b[0m\u001b[0;34m\u001b[0m\u001b[0;34m\u001b[0m\u001b[0m\n\u001b[1;32m    219\u001b[0m \u001b[0;34m\u001b[0m\u001b[0m\n",
            "\u001b[0;32m/usr/local/lib/python3.10/dist-packages/torch/nn/modules/module.py\u001b[0m in \u001b[0;36m_wrapped_call_impl\u001b[0;34m(self, *args, **kwargs)\u001b[0m\n\u001b[1;32m   1530\u001b[0m             \u001b[0;32mreturn\u001b[0m \u001b[0mself\u001b[0m\u001b[0;34m.\u001b[0m\u001b[0m_compiled_call_impl\u001b[0m\u001b[0;34m(\u001b[0m\u001b[0;34m*\u001b[0m\u001b[0margs\u001b[0m\u001b[0;34m,\u001b[0m \u001b[0;34m**\u001b[0m\u001b[0mkwargs\u001b[0m\u001b[0;34m)\u001b[0m  \u001b[0;31m# type: ignore[misc]\u001b[0m\u001b[0;34m\u001b[0m\u001b[0;34m\u001b[0m\u001b[0m\n\u001b[1;32m   1531\u001b[0m         \u001b[0;32melse\u001b[0m\u001b[0;34m:\u001b[0m\u001b[0;34m\u001b[0m\u001b[0;34m\u001b[0m\u001b[0m\n\u001b[0;32m-> 1532\u001b[0;31m             \u001b[0;32mreturn\u001b[0m \u001b[0mself\u001b[0m\u001b[0;34m.\u001b[0m\u001b[0m_call_impl\u001b[0m\u001b[0;34m(\u001b[0m\u001b[0;34m*\u001b[0m\u001b[0margs\u001b[0m\u001b[0;34m,\u001b[0m \u001b[0;34m**\u001b[0m\u001b[0mkwargs\u001b[0m\u001b[0;34m)\u001b[0m\u001b[0;34m\u001b[0m\u001b[0;34m\u001b[0m\u001b[0m\n\u001b[0m\u001b[1;32m   1533\u001b[0m \u001b[0;34m\u001b[0m\u001b[0m\n\u001b[1;32m   1534\u001b[0m     \u001b[0;32mdef\u001b[0m \u001b[0m_call_impl\u001b[0m\u001b[0;34m(\u001b[0m\u001b[0mself\u001b[0m\u001b[0;34m,\u001b[0m \u001b[0;34m*\u001b[0m\u001b[0margs\u001b[0m\u001b[0;34m,\u001b[0m \u001b[0;34m**\u001b[0m\u001b[0mkwargs\u001b[0m\u001b[0;34m)\u001b[0m\u001b[0;34m:\u001b[0m\u001b[0;34m\u001b[0m\u001b[0;34m\u001b[0m\u001b[0m\n",
            "\u001b[0;32m/usr/local/lib/python3.10/dist-packages/torch/nn/modules/module.py\u001b[0m in \u001b[0;36m_call_impl\u001b[0;34m(self, *args, **kwargs)\u001b[0m\n\u001b[1;32m   1539\u001b[0m                 \u001b[0;32mor\u001b[0m \u001b[0m_global_backward_pre_hooks\u001b[0m \u001b[0;32mor\u001b[0m \u001b[0m_global_backward_hooks\u001b[0m\u001b[0;34m\u001b[0m\u001b[0;34m\u001b[0m\u001b[0m\n\u001b[1;32m   1540\u001b[0m                 or _global_forward_hooks or _global_forward_pre_hooks):\n\u001b[0;32m-> 1541\u001b[0;31m             \u001b[0;32mreturn\u001b[0m \u001b[0mforward_call\u001b[0m\u001b[0;34m(\u001b[0m\u001b[0;34m*\u001b[0m\u001b[0margs\u001b[0m\u001b[0;34m,\u001b[0m \u001b[0;34m**\u001b[0m\u001b[0mkwargs\u001b[0m\u001b[0;34m)\u001b[0m\u001b[0;34m\u001b[0m\u001b[0;34m\u001b[0m\u001b[0m\n\u001b[0m\u001b[1;32m   1542\u001b[0m \u001b[0;34m\u001b[0m\u001b[0m\n\u001b[1;32m   1543\u001b[0m         \u001b[0;32mtry\u001b[0m\u001b[0;34m:\u001b[0m\u001b[0;34m\u001b[0m\u001b[0;34m\u001b[0m\u001b[0m\n",
            "\u001b[0;32m/usr/local/lib/python3.10/dist-packages/torch/nn/modules/linear.py\u001b[0m in \u001b[0;36mforward\u001b[0;34m(self, input)\u001b[0m\n\u001b[1;32m    114\u001b[0m \u001b[0;34m\u001b[0m\u001b[0m\n\u001b[1;32m    115\u001b[0m     \u001b[0;32mdef\u001b[0m \u001b[0mforward\u001b[0m\u001b[0;34m(\u001b[0m\u001b[0mself\u001b[0m\u001b[0;34m,\u001b[0m \u001b[0minput\u001b[0m\u001b[0;34m:\u001b[0m \u001b[0mTensor\u001b[0m\u001b[0;34m)\u001b[0m \u001b[0;34m->\u001b[0m \u001b[0mTensor\u001b[0m\u001b[0;34m:\u001b[0m\u001b[0;34m\u001b[0m\u001b[0;34m\u001b[0m\u001b[0m\n\u001b[0;32m--> 116\u001b[0;31m         \u001b[0;32mreturn\u001b[0m \u001b[0mF\u001b[0m\u001b[0;34m.\u001b[0m\u001b[0mlinear\u001b[0m\u001b[0;34m(\u001b[0m\u001b[0minput\u001b[0m\u001b[0;34m,\u001b[0m \u001b[0mself\u001b[0m\u001b[0;34m.\u001b[0m\u001b[0mweight\u001b[0m\u001b[0;34m,\u001b[0m \u001b[0mself\u001b[0m\u001b[0;34m.\u001b[0m\u001b[0mbias\u001b[0m\u001b[0;34m)\u001b[0m\u001b[0;34m\u001b[0m\u001b[0;34m\u001b[0m\u001b[0m\n\u001b[0m\u001b[1;32m    117\u001b[0m \u001b[0;34m\u001b[0m\u001b[0m\n\u001b[1;32m    118\u001b[0m     \u001b[0;32mdef\u001b[0m \u001b[0mextra_repr\u001b[0m\u001b[0;34m(\u001b[0m\u001b[0mself\u001b[0m\u001b[0;34m)\u001b[0m \u001b[0;34m->\u001b[0m \u001b[0mstr\u001b[0m\u001b[0;34m:\u001b[0m\u001b[0;34m\u001b[0m\u001b[0;34m\u001b[0m\u001b[0m\n",
            "\u001b[0;31mTypeError\u001b[0m: linear(): argument 'input' (position 1) must be Tensor, not tuple"
          ]
        }
      ],
      "source": [
        "model(x)"
      ]
    },
    {
      "cell_type": "markdown",
      "metadata": {
        "id": "FrY04rhP8Kw-"
      },
      "source": [
        "## Newwwww!"
      ]
    },
    {
      "cell_type": "code",
      "execution_count": null,
      "metadata": {
        "id": "XN2JiwEM29Rm"
      },
      "outputs": [],
      "source": [
        "# Template\n",
        "\n",
        "# class RNNModel(nn.Module):\n",
        "#   def __init__(self, ):\n",
        "#     super().__init__()\n",
        "\n",
        "#   def forward(self, x):\n",
        "#     return y"
      ]
    },
    {
      "cell_type": "code",
      "execution_count": 22,
      "metadata": {
        "id": "qdwE4OGdPBVU"
      },
      "outputs": [],
      "source": [
        "class RNNModel(nn.Module):\n",
        "  def __init__(self, input_size, hidden_size, num_layers, bidirectional, num_cls):\n",
        "    super().__init__()\n",
        "    self.rnn = nn.RNN(input_size=input_size,\n",
        "                      hidden_size=hidden_size,\n",
        "                      num_layers=num_layers,\n",
        "                      bidirectional=bidirectional)\n",
        "\n",
        "    # hidden_size = hidden_size * 2 if bidirectional else hidden_size\n",
        "    # self.fc = nn.Linear(hidden_size, num_cls)\n",
        "\n",
        "    self.fc = nn.LazyLinear(num_cls)\n",
        "\n",
        "  def forward(self, x):\n",
        "    outputs, _ = self.rnn(x)\n",
        "    # y = self.fc(outputs[:, 1]) # out: one\n",
        "    # outputs = outputs.flatten(1)\n",
        "    # y = self.fc(outputs)  # out: many\n",
        "    y = self.fc(outputs[:, -1])\n",
        "    # y = y.mean(dim=1)\n",
        "    return y"
      ]
    },
    {
      "cell_type": "code",
      "execution_count": 23,
      "metadata": {
        "colab": {
          "base_uri": "https://localhost:8080/"
        },
        "id": "aWs7FZ2vnmtQ",
        "outputId": "d740c17d-8c95-4074-9271-4641836b13f6"
      },
      "outputs": [
        {
          "name": "stderr",
          "output_type": "stream",
          "text": [
            "/usr/local/lib/python3.10/dist-packages/torch/nn/modules/lazy.py:181: UserWarning: Lazy modules are a new feature under heavy development so changes to the API or functionality can happen at any moment.\n",
            "  warnings.warn('Lazy modules are a new feature under heavy development '\n"
          ]
        },
        {
          "data": {
            "text/plain": [
              "RNNModel(\n",
              "  (rnn): RNN(9, 32, bidirectional=True)\n",
              "  (fc): LazyLinear(in_features=0, out_features=6, bias=True)\n",
              ")"
            ]
          },
          "execution_count": 23,
          "metadata": {},
          "output_type": "execute_result"
        }
      ],
      "source": [
        "model = RNNModel(9, 32, 1, True, 6)\n",
        "model"
      ]
    },
    {
      "cell_type": "code",
      "execution_count": 24,
      "metadata": {
        "colab": {
          "base_uri": "https://localhost:8080/"
        },
        "id": "HpvySSlrnrBW",
        "outputId": "360c759b-a2d0-415b-820b-b4b942186865"
      },
      "outputs": [
        {
          "data": {
            "text/plain": [
              "torch.Size([32])"
            ]
          },
          "execution_count": 24,
          "metadata": {},
          "output_type": "execute_result"
        }
      ],
      "source": [
        "model.rnn.bias_hh_l0.shape"
      ]
    },
    {
      "cell_type": "code",
      "execution_count": 27,
      "metadata": {
        "colab": {
          "base_uri": "https://localhost:8080/"
        },
        "id": "KTUFiW4hnwz3",
        "outputId": "582cd4b1-3aae-4d90-f0c0-bae776757045"
      },
      "outputs": [
        {
          "data": {
            "text/plain": [
              "torch.Size([6])"
            ]
          },
          "execution_count": 27,
          "metadata": {},
          "output_type": "execute_result"
        }
      ],
      "source": [
        "model.fc.bias.shape"
      ]
    },
    {
      "cell_type": "code",
      "execution_count": 26,
      "metadata": {
        "colab": {
          "base_uri": "https://localhost:8080/"
        },
        "id": "9PL_EgAdn2S-",
        "outputId": "10b73d95-88c9-4a43-9b63-9964c25f6229"
      },
      "outputs": [
        {
          "data": {
            "text/plain": [
              "torch.Size([64, 6])"
            ]
          },
          "execution_count": 26,
          "metadata": {},
          "output_type": "execute_result"
        }
      ],
      "source": [
        "model(x).shape"
      ]
    },
    {
      "cell_type": "markdown",
      "metadata": {
        "id": "IHsQ623pOs3J"
      },
      "source": [
        "## Params"
      ]
    },
    {
      "cell_type": "code",
      "execution_count": 28,
      "metadata": {
        "id": "K_JNWs7q0m1h"
      },
      "outputs": [],
      "source": [
        "def num_params(model, k=1e6):\n",
        "  nums = sum(p.numel() for p in model.parameters())/k\n",
        "  return nums"
      ]
    },
    {
      "cell_type": "code",
      "execution_count": 29,
      "metadata": {
        "colab": {
          "base_uri": "https://localhost:8080/"
        },
        "id": "VaBa7Ao90-66",
        "outputId": "ce834b85-00b6-4555-f88d-8d7d7cad6dd5"
      },
      "outputs": [
        {
          "data": {
            "text/plain": [
              "3.142"
            ]
          },
          "execution_count": 29,
          "metadata": {},
          "output_type": "execute_result"
        }
      ],
      "source": [
        "num_params(model, 1e3)"
      ]
    },
    {
      "cell_type": "markdown",
      "metadata": {
        "id": "DY5JMY1Yftsr"
      },
      "source": [
        "# **Device ⚙️**"
      ]
    },
    {
      "cell_type": "code",
      "execution_count": 30,
      "metadata": {
        "colab": {
          "base_uri": "https://localhost:8080/",
          "height": 0
        },
        "id": "Ce6_MpTcfrGi",
        "outputId": "ca6253a2-1425-459b-8be5-7c2bae4de181"
      },
      "outputs": [
        {
          "data": {
            "application/vnd.google.colaboratory.intrinsic+json": {
              "type": "string"
            },
            "text/plain": [
              "'cuda'"
            ]
          },
          "execution_count": 30,
          "metadata": {},
          "output_type": "execute_result"
        }
      ],
      "source": [
        "device = 'cuda' if torch.cuda.is_available() else 'cpu'\n",
        "device"
      ]
    },
    {
      "cell_type": "markdown",
      "metadata": {
        "id": "mbpEEA0g1-Be"
      },
      "source": [
        "# **Utils 🧰**"
      ]
    },
    {
      "cell_type": "code",
      "execution_count": 31,
      "metadata": {
        "id": "G6s889_UrqDT"
      },
      "outputs": [],
      "source": [
        "class AverageMeter(object):\n",
        "    \"\"\"Computes and stores the average and current value\"\"\"\n",
        "    def __init__(self):\n",
        "        self.reset()\n",
        "\n",
        "    def reset(self):\n",
        "        self.val = 0\n",
        "        self.avg = 0\n",
        "        self.sum = 0\n",
        "        self.count = 0\n",
        "\n",
        "    def update(self, val, n=1):\n",
        "        self.val = val\n",
        "        self.sum += val * n\n",
        "        self.count += n\n",
        "        self.avg = self.sum / self.count"
      ]
    },
    {
      "cell_type": "markdown",
      "metadata": {
        "id": "B_LljZFVAFPA"
      },
      "source": [
        "# **Functions** 🧮"
      ]
    },
    {
      "cell_type": "code",
      "execution_count": 32,
      "metadata": {
        "id": "4W9MVeEqAYiq"
      },
      "outputs": [],
      "source": [
        "def train_one_epoch(model, train_loader, loss_fn, optimizer, epoch=None):\n",
        "  model.train()\n",
        "  loss_train = AverageMeter()\n",
        "  acc_train = Accuracy(task='multiclass', num_classes=6).to(device)\n",
        "  with tqdm(train_loader, unit=\"batch\") as tepoch:\n",
        "    for inputs, targets in tepoch:\n",
        "      if epoch is not None:\n",
        "        tepoch.set_description(f\"Epoch {epoch}\")\n",
        "      inputs = inputs.to(device)\n",
        "      targets = targets.to(device)\n",
        "\n",
        "      outputs = model(inputs)\n",
        "\n",
        "      loss = loss_fn(outputs, targets)\n",
        "\n",
        "      loss.backward()\n",
        "      optimizer.step()\n",
        "      optimizer.zero_grad()\n",
        "\n",
        "      loss_train.update(loss.item())\n",
        "      acc_train(outputs, targets.int())\n",
        "      tepoch.set_postfix(loss=loss_train.avg,\n",
        "                         accuracy=100.*acc_train.compute().item())\n",
        "  return model, loss_train.avg, acc_train.compute().item()"
      ]
    },
    {
      "cell_type": "code",
      "execution_count": 33,
      "metadata": {
        "id": "ZEoGrXwZAaym"
      },
      "outputs": [],
      "source": [
        "def validation(model, test_loader, loss_fn):\n",
        "  model.eval()\n",
        "  with torch.no_grad():\n",
        "    loss_valid = AverageMeter()\n",
        "    acc_valid = Accuracy(task='multiclass', num_classes=6).to(device)\n",
        "    for i, (inputs, targets) in enumerate(test_loader):\n",
        "      inputs = inputs.to(device)\n",
        "      targets = targets.to(device)\n",
        "\n",
        "      outputs = model(inputs)\n",
        "      loss = loss_fn(outputs, targets)\n",
        "\n",
        "      loss_valid.update(loss.item())\n",
        "      acc_valid(outputs, targets.int())\n",
        "  return loss_valid.avg, acc_valid.compute().item()"
      ]
    },
    {
      "cell_type": "markdown",
      "metadata": {
        "id": "9csGqnCvtFAS"
      },
      "source": [
        "# **Efficient way for set hyperparams 🔨**"
      ]
    },
    {
      "cell_type": "markdown",
      "metadata": {
        "id": "lpJ3wtyctQJH"
      },
      "source": [
        "## Step 1: check forward path\n",
        "\n",
        "Calculate loss for one batch"
      ]
    },
    {
      "cell_type": "code",
      "execution_count": 34,
      "metadata": {
        "colab": {
          "base_uri": "https://localhost:8080/"
        },
        "id": "QnE4F4GkzzaR",
        "outputId": "b913991c-da1a-47ef-aaea-506a23557ba3"
      },
      "outputs": [
        {
          "name": "stdout",
          "output_type": "stream",
          "text": [
            "tensor(1.7898, device='cuda:0', grad_fn=<NllLossBackward0>)\n"
          ]
        }
      ],
      "source": [
        "model = RNNModel(9, 32, 1, False, 6).to(device)\n",
        "loss_fn = nn.CrossEntropyLoss()\n",
        "\n",
        "x_batch, y_batch = next(iter(train_loader))\n",
        "outputs = model(x_batch.to(device))\n",
        "loss = loss_fn(outputs, y_batch.to(device))\n",
        "print(loss)"
      ]
    },
    {
      "cell_type": "markdown",
      "metadata": {
        "id": "BrHQCv7q7LF_"
      },
      "source": [
        "## Step 2: check backward path\n",
        "\n",
        "Select 5 random batches and train the model"
      ]
    },
    {
      "cell_type": "code",
      "execution_count": 43,
      "metadata": {
        "id": "Jxz5DXoj61mg"
      },
      "outputs": [],
      "source": [
        "_, mini_train_dataset = random_split(train_set, (len(train_set)-500, 500))\n",
        "mini_train_loader = DataLoader(mini_train_dataset, 20)"
      ]
    },
    {
      "cell_type": "code",
      "execution_count": 44,
      "metadata": {
        "id": "J8yz1meO_fUS"
      },
      "outputs": [],
      "source": [
        "model = RNNModel(9, 32, 1, False, 6).to(device)\n",
        "loss_fn = nn.CrossEntropyLoss()"
      ]
    },
    {
      "cell_type": "code",
      "execution_count": 45,
      "metadata": {
        "id": "g0AG7IWGEcdG"
      },
      "outputs": [],
      "source": [
        "optimizer = optim.SGD(model.parameters(), lr=0.1)"
      ]
    },
    {
      "cell_type": "code",
      "execution_count": 46,
      "metadata": {
        "colab": {
          "base_uri": "https://localhost:8080/"
        },
        "id": "PK-P20hI3snf",
        "outputId": "a1301fdd-7d2c-4c27-b8a6-ee7eef31e48d"
      },
      "outputs": [
        {
          "name": "stderr",
          "output_type": "stream",
          "text": [
            "Epoch 0: 100%|██████████| 25/25 [00:00<00:00, 132.07batch/s, accuracy=26.2, loss=1.77]\n",
            "Epoch 1: 100%|██████████| 25/25 [00:00<00:00, 106.77batch/s, accuracy=39, loss=1.68]\n",
            "Epoch 2: 100%|██████████| 25/25 [00:00<00:00, 106.80batch/s, accuracy=39.8, loss=1.56]\n",
            "Epoch 3: 100%|██████████| 25/25 [00:00<00:00, 111.51batch/s, accuracy=40.2, loss=1.45]\n",
            "Epoch 4: 100%|██████████| 25/25 [00:00<00:00, 106.64batch/s, accuracy=41.2, loss=1.38]\n",
            "Epoch 5: 100%|██████████| 25/25 [00:00<00:00, 112.11batch/s, accuracy=45.8, loss=1.33]\n",
            "Epoch 6: 100%|██████████| 25/25 [00:00<00:00, 98.81batch/s, accuracy=46.4, loss=1.3]\n",
            "Epoch 7: 100%|██████████| 25/25 [00:00<00:00, 106.91batch/s, accuracy=47.2, loss=1.28]\n",
            "Epoch 8: 100%|██████████| 25/25 [00:00<00:00, 109.89batch/s, accuracy=47.6, loss=1.26]\n",
            "Epoch 9: 100%|██████████| 25/25 [00:00<00:00, 108.62batch/s, accuracy=48.8, loss=1.24]\n",
            "Epoch 10: 100%|██████████| 25/25 [00:00<00:00, 105.77batch/s, accuracy=50, loss=1.23]\n",
            "Epoch 11: 100%|██████████| 25/25 [00:00<00:00, 111.74batch/s, accuracy=50.2, loss=1.21]\n",
            "Epoch 12: 100%|██████████| 25/25 [00:00<00:00, 106.97batch/s, accuracy=51.4, loss=1.2]\n",
            "Epoch 13: 100%|██████████| 25/25 [00:00<00:00, 116.65batch/s, accuracy=53, loss=1.19]\n",
            "Epoch 14: 100%|██████████| 25/25 [00:00<00:00, 107.96batch/s, accuracy=53.4, loss=1.17]\n",
            "Epoch 15: 100%|██████████| 25/25 [00:00<00:00, 103.77batch/s, accuracy=52.4, loss=1.16]\n",
            "Epoch 16: 100%|██████████| 25/25 [00:00<00:00, 109.90batch/s, accuracy=52.4, loss=1.15]\n",
            "Epoch 17: 100%|██████████| 25/25 [00:00<00:00, 114.02batch/s, accuracy=53.4, loss=1.14]\n",
            "Epoch 18: 100%|██████████| 25/25 [00:00<00:00, 106.58batch/s, accuracy=54.2, loss=1.13]\n",
            "Epoch 19: 100%|██████████| 25/25 [00:00<00:00, 108.24batch/s, accuracy=54.4, loss=1.12]\n",
            "Epoch 20: 100%|██████████| 25/25 [00:00<00:00, 90.91batch/s, accuracy=55.8, loss=1.11]\n",
            "Epoch 21: 100%|██████████| 25/25 [00:00<00:00, 87.59batch/s, accuracy=56.2, loss=1.1]\n",
            "Epoch 22: 100%|██████████| 25/25 [00:00<00:00, 92.23batch/s, accuracy=57, loss=1.09]\n",
            "Epoch 23: 100%|██████████| 25/25 [00:00<00:00, 94.94batch/s, accuracy=57.2, loss=1.08]\n",
            "Epoch 24: 100%|██████████| 25/25 [00:00<00:00, 82.39batch/s, accuracy=58.2, loss=1.07]\n",
            "Epoch 25: 100%|██████████| 25/25 [00:00<00:00, 97.39batch/s, accuracy=57.4, loss=1.06] \n",
            "Epoch 26: 100%|██████████| 25/25 [00:00<00:00, 84.36batch/s, accuracy=57.8, loss=1.05]\n",
            "Epoch 27: 100%|██████████| 25/25 [00:00<00:00, 94.37batch/s, accuracy=58.4, loss=1.04]\n",
            "Epoch 28: 100%|██████████| 25/25 [00:00<00:00, 91.00batch/s, accuracy=58.2, loss=1.03]\n",
            "Epoch 29: 100%|██████████| 25/25 [00:00<00:00, 92.04batch/s, accuracy=58.2, loss=1.02]\n",
            "Epoch 30: 100%|██████████| 25/25 [00:00<00:00, 86.79batch/s, accuracy=58.4, loss=1.01]\n",
            "Epoch 31: 100%|██████████| 25/25 [00:00<00:00, 93.64batch/s, accuracy=58.6, loss=1.01]\n",
            "Epoch 32: 100%|██████████| 25/25 [00:00<00:00, 82.92batch/s, accuracy=59.6, loss=0.998]\n",
            "Epoch 33: 100%|██████████| 25/25 [00:00<00:00, 89.53batch/s, accuracy=60.2, loss=0.989]\n",
            "Epoch 34: 100%|██████████| 25/25 [00:00<00:00, 93.35batch/s, accuracy=60.6, loss=0.981]\n",
            "Epoch 35: 100%|██████████| 25/25 [00:00<00:00, 84.59batch/s, accuracy=60.8, loss=0.972]\n",
            "Epoch 36: 100%|██████████| 25/25 [00:00<00:00, 91.30batch/s, accuracy=61, loss=0.964]\n",
            "Epoch 37: 100%|██████████| 25/25 [00:00<00:00, 84.74batch/s, accuracy=61.2, loss=0.956]\n",
            "Epoch 38: 100%|██████████| 25/25 [00:00<00:00, 96.69batch/s, accuracy=61.6, loss=0.947]\n",
            "Epoch 39: 100%|██████████| 25/25 [00:00<00:00, 90.09batch/s, accuracy=63, loss=0.939]\n",
            "Epoch 40: 100%|██████████| 25/25 [00:00<00:00, 93.46batch/s, accuracy=63.6, loss=0.931]\n",
            "Epoch 41: 100%|██████████| 25/25 [00:00<00:00, 102.40batch/s, accuracy=64, loss=0.923]\n",
            "Epoch 42: 100%|██████████| 25/25 [00:00<00:00, 104.25batch/s, accuracy=64.2, loss=0.915]\n",
            "Epoch 43: 100%|██████████| 25/25 [00:00<00:00, 110.73batch/s, accuracy=64.4, loss=0.907]\n",
            "Epoch 44: 100%|██████████| 25/25 [00:00<00:00, 113.30batch/s, accuracy=64.2, loss=0.899]\n",
            "Epoch 45: 100%|██████████| 25/25 [00:00<00:00, 105.70batch/s, accuracy=64.6, loss=0.891]\n",
            "Epoch 46: 100%|██████████| 25/25 [00:00<00:00, 112.20batch/s, accuracy=65.4, loss=0.883]\n",
            "Epoch 47: 100%|██████████| 25/25 [00:00<00:00, 99.96batch/s, accuracy=65, loss=0.874] \n",
            "Epoch 48: 100%|██████████| 25/25 [00:00<00:00, 112.65batch/s, accuracy=65.2, loss=0.865]\n",
            "Epoch 49: 100%|██████████| 25/25 [00:00<00:00, 103.97batch/s, accuracy=65.6, loss=0.856]\n",
            "Epoch 50: 100%|██████████| 25/25 [00:00<00:00, 107.54batch/s, accuracy=66.2, loss=0.846]\n",
            "Epoch 51: 100%|██████████| 25/25 [00:00<00:00, 112.23batch/s, accuracy=66.8, loss=0.835]\n",
            "Epoch 52: 100%|██████████| 25/25 [00:00<00:00, 110.51batch/s, accuracy=66.8, loss=0.824]\n",
            "Epoch 53: 100%|██████████| 25/25 [00:00<00:00, 104.83batch/s, accuracy=67.2, loss=0.812]\n",
            "Epoch 54: 100%|██████████| 25/25 [00:00<00:00, 114.87batch/s, accuracy=67.8, loss=0.8]\n",
            "Epoch 55: 100%|██████████| 25/25 [00:00<00:00, 127.14batch/s, accuracy=69, loss=0.787]\n",
            "Epoch 56: 100%|██████████| 25/25 [00:00<00:00, 122.16batch/s, accuracy=70, loss=0.773]\n",
            "Epoch 57: 100%|██████████| 25/25 [00:00<00:00, 130.20batch/s, accuracy=71.2, loss=0.758]\n",
            "Epoch 58: 100%|██████████| 25/25 [00:00<00:00, 129.76batch/s, accuracy=72.2, loss=0.744]\n",
            "Epoch 59: 100%|██████████| 25/25 [00:00<00:00, 118.84batch/s, accuracy=73.4, loss=0.73]\n",
            "Epoch 60: 100%|██████████| 25/25 [00:00<00:00, 106.39batch/s, accuracy=74.8, loss=0.716]\n",
            "Epoch 61: 100%|██████████| 25/25 [00:00<00:00, 101.81batch/s, accuracy=76, loss=0.702]\n",
            "Epoch 62: 100%|██████████| 25/25 [00:00<00:00, 104.38batch/s, accuracy=76.8, loss=0.686]\n",
            "Epoch 63: 100%|██████████| 25/25 [00:00<00:00, 100.05batch/s, accuracy=76.6, loss=0.67]\n",
            "Epoch 64: 100%|██████████| 25/25 [00:00<00:00, 108.40batch/s, accuracy=77.6, loss=0.653]\n",
            "Epoch 65: 100%|██████████| 25/25 [00:00<00:00, 104.25batch/s, accuracy=77.2, loss=0.641]\n",
            "Epoch 66: 100%|██████████| 25/25 [00:00<00:00, 111.30batch/s, accuracy=78, loss=0.639]\n",
            "Epoch 67: 100%|██████████| 25/25 [00:00<00:00, 105.67batch/s, accuracy=77, loss=0.639]\n",
            "Epoch 68: 100%|██████████| 25/25 [00:00<00:00, 103.63batch/s, accuracy=77.2, loss=0.627]\n",
            "Epoch 69: 100%|██████████| 25/25 [00:00<00:00, 107.41batch/s, accuracy=79.2, loss=0.6]\n",
            "Epoch 70: 100%|██████████| 25/25 [00:00<00:00, 104.02batch/s, accuracy=79.8, loss=0.584]\n",
            "Epoch 71: 100%|██████████| 25/25 [00:00<00:00, 114.02batch/s, accuracy=80.8, loss=0.582]\n",
            "Epoch 72: 100%|██████████| 25/25 [00:00<00:00, 102.50batch/s, accuracy=81, loss=0.559]\n",
            "Epoch 73: 100%|██████████| 25/25 [00:00<00:00, 101.73batch/s, accuracy=80.6, loss=0.56]\n",
            "Epoch 74: 100%|██████████| 25/25 [00:00<00:00, 105.74batch/s, accuracy=82.8, loss=0.526]\n",
            "Epoch 75: 100%|██████████| 25/25 [00:00<00:00, 109.29batch/s, accuracy=80.6, loss=0.543]\n",
            "Epoch 76: 100%|██████████| 25/25 [00:00<00:00, 105.24batch/s, accuracy=80.8, loss=0.543]\n",
            "Epoch 77: 100%|██████████| 25/25 [00:00<00:00, 107.08batch/s, accuracy=81.6, loss=0.545]\n",
            "Epoch 78: 100%|██████████| 25/25 [00:00<00:00, 102.13batch/s, accuracy=83.2, loss=0.489]\n",
            "Epoch 79: 100%|██████████| 25/25 [00:00<00:00, 105.80batch/s, accuracy=86, loss=0.473]\n",
            "Epoch 80: 100%|██████████| 25/25 [00:00<00:00, 105.34batch/s, accuracy=84.4, loss=0.465]\n",
            "Epoch 81: 100%|██████████| 25/25 [00:00<00:00, 107.98batch/s, accuracy=85.2, loss=0.485]\n",
            "Epoch 82: 100%|██████████| 25/25 [00:00<00:00, 98.34batch/s, accuracy=84, loss=0.482]\n",
            "Epoch 83: 100%|██████████| 25/25 [00:00<00:00, 88.26batch/s, accuracy=83.2, loss=0.463]\n",
            "Epoch 84: 100%|██████████| 25/25 [00:00<00:00, 93.34batch/s, accuracy=85, loss=0.453]\n",
            "Epoch 85: 100%|██████████| 25/25 [00:00<00:00, 84.48batch/s, accuracy=80.2, loss=0.535]\n",
            "Epoch 86: 100%|██████████| 25/25 [00:00<00:00, 82.76batch/s, accuracy=79.4, loss=0.561]\n",
            "Epoch 87: 100%|██████████| 25/25 [00:00<00:00, 84.05batch/s, accuracy=84, loss=0.472]\n",
            "Epoch 88: 100%|██████████| 25/25 [00:00<00:00, 85.56batch/s, accuracy=90.4, loss=0.38]\n",
            "Epoch 89: 100%|██████████| 25/25 [00:00<00:00, 114.27batch/s, accuracy=88.8, loss=0.37]\n",
            "Epoch 90: 100%|██████████| 25/25 [00:00<00:00, 90.76batch/s, accuracy=90, loss=0.342]\n",
            "Epoch 91: 100%|██████████| 25/25 [00:00<00:00, 83.03batch/s, accuracy=90.8, loss=0.339]\n",
            "Epoch 92: 100%|██████████| 25/25 [00:00<00:00, 88.33batch/s, accuracy=91, loss=0.325]\n",
            "Epoch 93: 100%|██████████| 25/25 [00:00<00:00, 83.19batch/s, accuracy=91, loss=0.316]\n",
            "Epoch 94: 100%|██████████| 25/25 [00:00<00:00, 85.14batch/s, accuracy=92.4, loss=0.299]\n",
            "Epoch 95: 100%|██████████| 25/25 [00:00<00:00, 85.54batch/s, accuracy=94.2, loss=0.277]\n",
            "Epoch 96: 100%|██████████| 25/25 [00:00<00:00, 84.35batch/s, accuracy=89.4, loss=0.336]\n",
            "Epoch 97: 100%|██████████| 25/25 [00:00<00:00, 80.24batch/s, accuracy=89.6, loss=0.351]\n",
            "Epoch 98: 100%|██████████| 25/25 [00:00<00:00, 73.80batch/s, accuracy=82.2, loss=0.466]\n",
            "Epoch 99: 100%|██████████| 25/25 [00:00<00:00, 76.04batch/s, accuracy=82.2, loss=0.472]\n"
          ]
        }
      ],
      "source": [
        "num_epochs = 100\n",
        "for epoch in range(num_epochs):\n",
        "  model, _, _ = train_one_epoch(model, mini_train_loader, loss_fn, optimizer, epoch)"
      ]
    },
    {
      "cell_type": "markdown",
      "metadata": {
        "id": "BLT4w0ZfAhlJ"
      },
      "source": [
        "## Step 3: select best lr\n",
        "\n",
        "Train all data for one epoch"
      ]
    },
    {
      "cell_type": "code",
      "execution_count": 48,
      "metadata": {
        "colab": {
          "base_uri": "https://localhost:8080/"
        },
        "id": "c7tlXlY4_Dwi",
        "outputId": "7fe30d20-f206-4b21-b3c1-4598a6c47603"
      },
      "outputs": [
        {
          "name": "stdout",
          "output_type": "stream",
          "text": [
            "LR=0.9\n"
          ]
        },
        {
          "name": "stderr",
          "output_type": "stream",
          "text": [
            "Epoch 0: 100%|██████████| 115/115 [00:01<00:00, 85.07batch/s, accuracy=46.4, loss=1.25]\n",
            "Epoch 1: 100%|██████████| 115/115 [00:01<00:00, 85.01batch/s, accuracy=52.1, loss=1.09]\n",
            "Epoch 2: 100%|██████████| 115/115 [00:01<00:00, 97.12batch/s, accuracy=55.1, loss=1.04]\n",
            "Epoch 3: 100%|██████████| 115/115 [00:01<00:00, 100.34batch/s, accuracy=60.1, loss=0.955]\n",
            "Epoch 4: 100%|██████████| 115/115 [00:01<00:00, 102.07batch/s, accuracy=63.3, loss=0.873]\n"
          ]
        },
        {
          "name": "stdout",
          "output_type": "stream",
          "text": [
            "\n",
            "LR=0.1\n"
          ]
        },
        {
          "name": "stderr",
          "output_type": "stream",
          "text": [
            "Epoch 0: 100%|██████████| 115/115 [00:01<00:00, 102.60batch/s, accuracy=36, loss=1.56]\n",
            "Epoch 1: 100%|██████████| 115/115 [00:01<00:00, 101.08batch/s, accuracy=47.1, loss=1.3]\n",
            "Epoch 2: 100%|██████████| 115/115 [00:01<00:00, 98.74batch/s, accuracy=49.7, loss=1.22]\n",
            "Epoch 3: 100%|██████████| 115/115 [00:01<00:00, 101.21batch/s, accuracy=51.3, loss=1.17]\n",
            "Epoch 4: 100%|██████████| 115/115 [00:01<00:00, 103.38batch/s, accuracy=52.7, loss=1.13]\n"
          ]
        },
        {
          "name": "stdout",
          "output_type": "stream",
          "text": [
            "\n",
            "LR=0.01\n"
          ]
        },
        {
          "name": "stderr",
          "output_type": "stream",
          "text": [
            "Epoch 0: 100%|██████████| 115/115 [00:01<00:00, 108.89batch/s, accuracy=20.5, loss=1.78]\n",
            "Epoch 1: 100%|██████████| 115/115 [00:01<00:00, 101.76batch/s, accuracy=38.8, loss=1.72]\n",
            "Epoch 2: 100%|██████████| 115/115 [00:01<00:00, 87.84batch/s, accuracy=39.7, loss=1.67]\n",
            "Epoch 3: 100%|██████████| 115/115 [00:01<00:00, 83.60batch/s, accuracy=40.1, loss=1.62]\n",
            "Epoch 4: 100%|██████████| 115/115 [00:01<00:00, 83.41batch/s, accuracy=40.8, loss=1.56]"
          ]
        },
        {
          "name": "stdout",
          "output_type": "stream",
          "text": [
            "\n"
          ]
        },
        {
          "name": "stderr",
          "output_type": "stream",
          "text": [
            "\n"
          ]
        }
      ],
      "source": [
        "num_epochs = 5\n",
        "for lr in [0.9, 0.1, 0.01]:\n",
        "  print(f'LR={lr}')\n",
        "  model = RNNModel(9, 32, 1, False, 6).to(device)\n",
        "  optimizer = optim.SGD(model.parameters(), lr=lr, weight_decay=1e-4)\n",
        "  for epoch in range(num_epochs):\n",
        "    model, _, _ = train_one_epoch(model, train_loader, loss_fn, optimizer, epoch)\n",
        "  print()"
      ]
    },
    {
      "cell_type": "markdown",
      "metadata": {
        "id": "uC2GhaXfA8vC"
      },
      "source": [
        "## Step 4: small grid (optional)\n",
        "\n",
        "Create a small grid based on the WD and the best LR\n",
        "\n"
      ]
    },
    {
      "cell_type": "code",
      "execution_count": 49,
      "metadata": {
        "colab": {
          "base_uri": "https://localhost:8080/"
        },
        "id": "yIta-JKgA7-I",
        "outputId": "cc6ddcfc-390d-4cd0-efb6-a2274a05c901"
      },
      "outputs": [
        {
          "name": "stdout",
          "output_type": "stream",
          "text": [
            "LR=0.08, WD=0.0001\n"
          ]
        },
        {
          "name": "stderr",
          "output_type": "stream",
          "text": [
            "Epoch 0: 100%|██████████| 115/115 [00:01<00:00, 105.66batch/s, accuracy=34.4, loss=1.64]\n",
            "Epoch 1: 100%|██████████| 115/115 [00:01<00:00, 101.86batch/s, accuracy=45.5, loss=1.35]\n",
            "Epoch 2: 100%|██████████| 115/115 [00:01<00:00, 101.19batch/s, accuracy=49.3, loss=1.26]\n",
            "Epoch 3: 100%|██████████| 115/115 [00:01<00:00, 100.50batch/s, accuracy=51.3, loss=1.2]\n",
            "Epoch 4: 100%|██████████| 115/115 [00:01<00:00, 109.52batch/s, accuracy=51.8, loss=1.16]\n"
          ]
        },
        {
          "name": "stdout",
          "output_type": "stream",
          "text": [
            "\n",
            "LR=0.08, WD=1e-05\n"
          ]
        },
        {
          "name": "stderr",
          "output_type": "stream",
          "text": [
            "Epoch 0: 100%|██████████| 115/115 [00:01<00:00, 110.94batch/s, accuracy=38.6, loss=1.6]\n",
            "Epoch 1: 100%|██████████| 115/115 [00:01<00:00, 98.73batch/s, accuracy=46.3, loss=1.33]\n",
            "Epoch 2: 100%|██████████| 115/115 [00:01<00:00, 88.19batch/s, accuracy=50.8, loss=1.25]\n",
            "Epoch 3: 100%|██████████| 115/115 [00:01<00:00, 82.39batch/s, accuracy=52.5, loss=1.19]\n",
            "Epoch 4: 100%|██████████| 115/115 [00:01<00:00, 80.56batch/s, accuracy=52.9, loss=1.15]\n"
          ]
        },
        {
          "name": "stdout",
          "output_type": "stream",
          "text": [
            "\n",
            "LR=0.08, WD=0.0\n"
          ]
        },
        {
          "name": "stderr",
          "output_type": "stream",
          "text": [
            "Epoch 0: 100%|██████████| 115/115 [00:01<00:00, 93.65batch/s, accuracy=36.6, loss=1.62] \n",
            "Epoch 1: 100%|██████████| 115/115 [00:01<00:00, 101.27batch/s, accuracy=45.2, loss=1.34]\n",
            "Epoch 2: 100%|██████████| 115/115 [00:01<00:00, 102.80batch/s, accuracy=50.3, loss=1.26]\n",
            "Epoch 3: 100%|██████████| 115/115 [00:01<00:00, 103.79batch/s, accuracy=50.9, loss=1.21]\n",
            "Epoch 4: 100%|██████████| 115/115 [00:01<00:00, 101.53batch/s, accuracy=52.2, loss=1.17]\n"
          ]
        },
        {
          "name": "stdout",
          "output_type": "stream",
          "text": [
            "\n",
            "LR=0.09, WD=0.0001\n"
          ]
        },
        {
          "name": "stderr",
          "output_type": "stream",
          "text": [
            "Epoch 0: 100%|██████████| 115/115 [00:01<00:00, 101.82batch/s, accuracy=35.7, loss=1.59]\n",
            "Epoch 1: 100%|██████████| 115/115 [00:01<00:00, 100.30batch/s, accuracy=47.2, loss=1.32]\n",
            "Epoch 2: 100%|██████████| 115/115 [00:01<00:00, 100.92batch/s, accuracy=49.4, loss=1.23]\n",
            "Epoch 3: 100%|██████████| 115/115 [00:01<00:00, 98.37batch/s, accuracy=51.2, loss=1.18]\n",
            "Epoch 4: 100%|██████████| 115/115 [00:01<00:00, 88.14batch/s, accuracy=52.6, loss=1.14]\n"
          ]
        },
        {
          "name": "stdout",
          "output_type": "stream",
          "text": [
            "\n",
            "LR=0.09, WD=1e-05\n"
          ]
        },
        {
          "name": "stderr",
          "output_type": "stream",
          "text": [
            "Epoch 0: 100%|██████████| 115/115 [00:01<00:00, 84.71batch/s, accuracy=38.6, loss=1.6]\n",
            "Epoch 1: 100%|██████████| 115/115 [00:01<00:00, 81.62batch/s, accuracy=47.6, loss=1.32]\n",
            "Epoch 2: 100%|██████████| 115/115 [00:01<00:00, 79.47batch/s, accuracy=51.3, loss=1.24]\n",
            "Epoch 3: 100%|██████████| 115/115 [00:01<00:00, 100.40batch/s, accuracy=52.5, loss=1.18]\n",
            "Epoch 4: 100%|██████████| 115/115 [00:01<00:00, 102.44batch/s, accuracy=53, loss=1.14]\n"
          ]
        },
        {
          "name": "stdout",
          "output_type": "stream",
          "text": [
            "\n",
            "LR=0.09, WD=0.0\n"
          ]
        },
        {
          "name": "stderr",
          "output_type": "stream",
          "text": [
            "Epoch 0: 100%|██████████| 115/115 [00:01<00:00, 102.30batch/s, accuracy=39, loss=1.55]\n",
            "Epoch 1: 100%|██████████| 115/115 [00:01<00:00, 101.05batch/s, accuracy=47.6, loss=1.31]\n",
            "Epoch 2: 100%|██████████| 115/115 [00:01<00:00, 100.68batch/s, accuracy=50.9, loss=1.23]\n",
            "Epoch 3: 100%|██████████| 115/115 [00:01<00:00, 103.48batch/s, accuracy=52, loss=1.18]\n",
            "Epoch 4: 100%|██████████| 115/115 [00:01<00:00, 98.60batch/s, accuracy=52.9, loss=1.14]\n"
          ]
        },
        {
          "name": "stdout",
          "output_type": "stream",
          "text": [
            "\n",
            "LR=0.1, WD=0.0001\n"
          ]
        },
        {
          "name": "stderr",
          "output_type": "stream",
          "text": [
            "Epoch 0: 100%|██████████| 115/115 [00:01<00:00, 100.67batch/s, accuracy=37.9, loss=1.57]\n",
            "Epoch 1: 100%|██████████| 115/115 [00:01<00:00, 95.79batch/s, accuracy=47.4, loss=1.3]\n",
            "Epoch 2: 100%|██████████| 115/115 [00:01<00:00, 85.88batch/s, accuracy=50.9, loss=1.22]\n",
            "Epoch 3: 100%|██████████| 115/115 [00:01<00:00, 89.51batch/s, accuracy=52, loss=1.17]\n",
            "Epoch 4: 100%|██████████| 115/115 [00:01<00:00, 85.36batch/s, accuracy=52.9, loss=1.13]\n"
          ]
        },
        {
          "name": "stdout",
          "output_type": "stream",
          "text": [
            "\n",
            "LR=0.1, WD=1e-05\n"
          ]
        },
        {
          "name": "stderr",
          "output_type": "stream",
          "text": [
            "Epoch 0: 100%|██████████| 115/115 [00:01<00:00, 85.88batch/s, accuracy=37.7, loss=1.56]\n",
            "Epoch 1: 100%|██████████| 115/115 [00:01<00:00, 100.17batch/s, accuracy=48.2, loss=1.3]\n",
            "Epoch 2: 100%|██████████| 115/115 [00:01<00:00, 100.10batch/s, accuracy=51.1, loss=1.21]\n",
            "Epoch 3: 100%|██████████| 115/115 [00:01<00:00, 99.34batch/s, accuracy=52.1, loss=1.16]\n",
            "Epoch 4: 100%|██████████| 115/115 [00:01<00:00, 98.70batch/s, accuracy=53.6, loss=1.12]\n"
          ]
        },
        {
          "name": "stdout",
          "output_type": "stream",
          "text": [
            "\n",
            "LR=0.1, WD=0.0\n"
          ]
        },
        {
          "name": "stderr",
          "output_type": "stream",
          "text": [
            "Epoch 0: 100%|██████████| 115/115 [00:01<00:00, 102.01batch/s, accuracy=38.8, loss=1.58]\n",
            "Epoch 1: 100%|██████████| 115/115 [00:00<00:00, 117.44batch/s, accuracy=48.2, loss=1.3]\n",
            "Epoch 2: 100%|██████████| 115/115 [00:01<00:00, 99.93batch/s, accuracy=50.8, loss=1.21] \n",
            "Epoch 3: 100%|██████████| 115/115 [00:01<00:00, 98.52batch/s, accuracy=52.2, loss=1.16]\n",
            "Epoch 4: 100%|██████████| 115/115 [00:01<00:00, 97.11batch/s, accuracy=53.6, loss=1.12]\n"
          ]
        },
        {
          "name": "stdout",
          "output_type": "stream",
          "text": [
            "\n",
            "LR=0.15, WD=0.0001\n"
          ]
        },
        {
          "name": "stderr",
          "output_type": "stream",
          "text": [
            "Epoch 0: 100%|██████████| 115/115 [00:01<00:00, 86.52batch/s, accuracy=40.6, loss=1.49]\n",
            "Epoch 1: 100%|██████████| 115/115 [00:01<00:00, 84.58batch/s, accuracy=49.2, loss=1.24]\n",
            "Epoch 2: 100%|██████████| 115/115 [00:01<00:00, 84.54batch/s, accuracy=51.2, loss=1.16]\n",
            "Epoch 3: 100%|██████████| 115/115 [00:01<00:00, 78.10batch/s, accuracy=53.1, loss=1.11]\n",
            "Epoch 4: 100%|██████████| 115/115 [00:01<00:00, 93.26batch/s, accuracy=54.4, loss=1.07]\n"
          ]
        },
        {
          "name": "stdout",
          "output_type": "stream",
          "text": [
            "\n",
            "LR=0.15, WD=1e-05\n"
          ]
        },
        {
          "name": "stderr",
          "output_type": "stream",
          "text": [
            "Epoch 0: 100%|██████████| 115/115 [00:01<00:00, 100.96batch/s, accuracy=40.7, loss=1.49]\n",
            "Epoch 1: 100%|██████████| 115/115 [00:01<00:00, 100.83batch/s, accuracy=50.4, loss=1.23]\n",
            "Epoch 2: 100%|██████████| 115/115 [00:01<00:00, 99.69batch/s, accuracy=52.9, loss=1.15]\n",
            "Epoch 3: 100%|██████████| 115/115 [00:01<00:00, 98.72batch/s, accuracy=54.2, loss=1.09]\n",
            "Epoch 4: 100%|██████████| 115/115 [00:01<00:00, 99.05batch/s, accuracy=55.2, loss=1.06]\n"
          ]
        },
        {
          "name": "stdout",
          "output_type": "stream",
          "text": [
            "\n",
            "LR=0.15, WD=0.0\n"
          ]
        },
        {
          "name": "stderr",
          "output_type": "stream",
          "text": [
            "Epoch 0: 100%|██████████| 115/115 [00:01<00:00, 100.32batch/s, accuracy=41.1, loss=1.49]\n",
            "Epoch 1: 100%|██████████| 115/115 [00:01<00:00, 103.15batch/s, accuracy=49.8, loss=1.23]\n",
            "Epoch 2: 100%|██████████| 115/115 [00:01<00:00, 100.45batch/s, accuracy=51.6, loss=1.15]\n",
            "Epoch 3: 100%|██████████| 115/115 [00:01<00:00, 87.96batch/s, accuracy=53.5, loss=1.1]\n",
            "Epoch 4: 100%|██████████| 115/115 [00:01<00:00, 91.48batch/s, accuracy=54, loss=1.07]\n"
          ]
        },
        {
          "name": "stdout",
          "output_type": "stream",
          "text": [
            "\n",
            "LR=0.2, WD=0.0001\n"
          ]
        },
        {
          "name": "stderr",
          "output_type": "stream",
          "text": [
            "Epoch 0: 100%|██████████| 115/115 [00:01<00:00, 84.17batch/s, accuracy=40.5, loss=1.44]\n",
            "Epoch 1: 100%|██████████| 115/115 [00:01<00:00, 87.30batch/s, accuracy=49.4, loss=1.21]\n",
            "Epoch 2: 100%|██████████| 115/115 [00:01<00:00, 95.75batch/s, accuracy=52.3, loss=1.13] \n",
            "Epoch 3: 100%|██████████| 115/115 [00:01<00:00, 99.71batch/s, accuracy=53.5, loss=1.08]\n",
            "Epoch 4: 100%|██████████| 115/115 [00:01<00:00, 99.36batch/s, accuracy=54.7, loss=1.05]\n"
          ]
        },
        {
          "name": "stdout",
          "output_type": "stream",
          "text": [
            "\n",
            "LR=0.2, WD=1e-05\n"
          ]
        },
        {
          "name": "stderr",
          "output_type": "stream",
          "text": [
            "Epoch 0: 100%|██████████| 115/115 [00:01<00:00, 98.95batch/s, accuracy=41.6, loss=1.45] \n",
            "Epoch 1: 100%|██████████| 115/115 [00:01<00:00, 99.71batch/s, accuracy=49.6, loss=1.2]\n",
            "Epoch 2: 100%|██████████| 115/115 [00:01<00:00, 100.12batch/s, accuracy=52.9, loss=1.12]\n",
            "Epoch 3: 100%|██████████| 115/115 [00:01<00:00, 96.52batch/s, accuracy=54.6, loss=1.07]\n",
            "Epoch 4: 100%|██████████| 115/115 [00:01<00:00, 99.93batch/s, accuracy=55.8, loss=1.04]\n"
          ]
        },
        {
          "name": "stdout",
          "output_type": "stream",
          "text": [
            "\n",
            "LR=0.2, WD=0.0\n"
          ]
        },
        {
          "name": "stderr",
          "output_type": "stream",
          "text": [
            "Epoch 0: 100%|██████████| 115/115 [00:01<00:00, 96.96batch/s, accuracy=41.7, loss=1.43]\n",
            "Epoch 1: 100%|██████████| 115/115 [00:01<00:00, 84.14batch/s, accuracy=50.1, loss=1.19]\n",
            "Epoch 2: 100%|██████████| 115/115 [00:01<00:00, 79.74batch/s, accuracy=52.3, loss=1.12]\n",
            "Epoch 3: 100%|██████████| 115/115 [00:01<00:00, 87.07batch/s, accuracy=53.9, loss=1.07]\n",
            "Epoch 4: 100%|██████████| 115/115 [00:01<00:00, 88.21batch/s, accuracy=55.1, loss=1.04]"
          ]
        },
        {
          "name": "stdout",
          "output_type": "stream",
          "text": [
            "\n"
          ]
        },
        {
          "name": "stderr",
          "output_type": "stream",
          "text": [
            "\n"
          ]
        }
      ],
      "source": [
        "num_epochs = 5\n",
        "\n",
        "for lr in [0.08, 0.09, 0.1, 0.15, 0.2]:\n",
        "  for wd in [1e-4, 1e-5, 0.]:\n",
        "    model = RNNModel(9, 32, 1, False, 6).to(device)\n",
        "    optimizer = optim.SGD(model.parameters(), lr=lr, weight_decay=wd)\n",
        "    print(f'LR={lr}, WD={wd}')\n",
        "\n",
        "    for epoch in range(num_epochs):\n",
        "      model, loss, _ = train_one_epoch(model, train_loader, loss_fn, optimizer, epoch)\n",
        "    print()"
      ]
    },
    {
      "cell_type": "markdown",
      "metadata": {
        "id": "oBW2SLfEEkCp"
      },
      "source": [
        "## Step 5: train more epochs"
      ]
    },
    {
      "cell_type": "code",
      "execution_count": 90,
      "metadata": {
        "id": "pCCY2WecCyyg"
      },
      "outputs": [],
      "source": [
        "model = RNNModel(9, 32, 1, False, 6).to(device)"
      ]
    },
    {
      "cell_type": "code",
      "execution_count": 91,
      "metadata": {
        "id": "bowjVB5yIXUP"
      },
      "outputs": [],
      "source": [
        "lr = 0.9\n",
        "wd = 1e-4\n",
        "optimizer = optim.SGD(model.parameters(), lr=lr, weight_decay=wd, momentum=0.9)"
      ]
    },
    {
      "cell_type": "code",
      "execution_count": 92,
      "metadata": {
        "id": "FIrBCdHBIeRb"
      },
      "outputs": [],
      "source": [
        "loss_train_hist = []\n",
        "loss_valid_hist = []\n",
        "\n",
        "acc_train_hist = []\n",
        "acc_valid_hist = []\n",
        "\n",
        "best_loss_valid = torch.inf\n",
        "epoch_counter = 0"
      ]
    },
    {
      "cell_type": "code",
      "execution_count": 93,
      "metadata": {
        "colab": {
          "base_uri": "https://localhost:8080/"
        },
        "id": "CAXagB4yvtZd",
        "outputId": "1332e9d3-83e0-4165-a86f-05d7cc5b70f5"
      },
      "outputs": [
        {
          "name": "stderr",
          "output_type": "stream",
          "text": [
            "Epoch 0: 100%|██████████| 115/115 [00:01<00:00, 104.50batch/s, accuracy=24.3, loss=21.3]\n"
          ]
        },
        {
          "name": "stdout",
          "output_type": "stream",
          "text": [
            "model saved!\n",
            "Valid: Loss = 51.88, Acc = 0.1822\n",
            "\n"
          ]
        },
        {
          "name": "stderr",
          "output_type": "stream",
          "text": [
            "Epoch 1: 100%|██████████| 115/115 [00:01<00:00, 100.44batch/s, accuracy=20.3, loss=32]\n"
          ]
        },
        {
          "name": "stdout",
          "output_type": "stream",
          "text": [
            "model saved!\n",
            "Valid: Loss = 38.59, Acc = 0.1815\n",
            "\n"
          ]
        },
        {
          "name": "stderr",
          "output_type": "stream",
          "text": [
            "Epoch 2: 100%|██████████| 115/115 [00:00<00:00, 115.54batch/s, accuracy=17.2, loss=37]\n"
          ]
        },
        {
          "name": "stdout",
          "output_type": "stream",
          "text": [
            "model saved!\n",
            "Valid: Loss = 31.01, Acc = 0.1805\n",
            "\n"
          ]
        },
        {
          "name": "stderr",
          "output_type": "stream",
          "text": [
            "Epoch 3: 100%|██████████| 115/115 [00:01<00:00, 80.17batch/s, accuracy=17, loss=34.1]\n"
          ]
        },
        {
          "name": "stdout",
          "output_type": "stream",
          "text": [
            "model saved!\n",
            "Valid: Loss = 20.58, Acc = 0.1788\n",
            "\n"
          ]
        },
        {
          "name": "stderr",
          "output_type": "stream",
          "text": [
            "Epoch 4: 100%|██████████| 115/115 [00:01<00:00, 82.68batch/s, accuracy=17.5, loss=36.6]\n"
          ]
        },
        {
          "name": "stdout",
          "output_type": "stream",
          "text": [
            "Valid: Loss = 34.94, Acc = 0.1805\n",
            "\n"
          ]
        },
        {
          "name": "stderr",
          "output_type": "stream",
          "text": [
            "Epoch 5: 100%|██████████| 115/115 [00:01<00:00, 85.26batch/s, accuracy=16.8, loss=34.8]\n"
          ]
        },
        {
          "name": "stdout",
          "output_type": "stream",
          "text": [
            "Valid: Loss = 27.85, Acc = 0.1598\n",
            "\n"
          ]
        },
        {
          "name": "stderr",
          "output_type": "stream",
          "text": [
            "Epoch 6: 100%|██████████| 115/115 [00:01<00:00, 98.27batch/s, accuracy=17.1, loss=33.4] \n"
          ]
        },
        {
          "name": "stdout",
          "output_type": "stream",
          "text": [
            "Valid: Loss = 35.3, Acc = 0.1591\n",
            "\n"
          ]
        },
        {
          "name": "stderr",
          "output_type": "stream",
          "text": [
            "Epoch 7: 100%|██████████| 115/115 [00:01<00:00, 88.42batch/s, accuracy=17.1, loss=32.1]\n"
          ]
        },
        {
          "name": "stdout",
          "output_type": "stream",
          "text": [
            "Valid: Loss = 40.99, Acc = 0.1653\n",
            "\n"
          ]
        },
        {
          "name": "stderr",
          "output_type": "stream",
          "text": [
            "Epoch 8: 100%|██████████| 115/115 [00:01<00:00, 81.96batch/s, accuracy=16.9, loss=38.2]\n"
          ]
        },
        {
          "name": "stdout",
          "output_type": "stream",
          "text": [
            "Valid: Loss = 31.45, Acc = 0.1822\n",
            "\n"
          ]
        },
        {
          "name": "stderr",
          "output_type": "stream",
          "text": [
            "Epoch 9: 100%|██████████| 115/115 [00:01<00:00, 79.92batch/s, accuracy=17, loss=31.2]\n"
          ]
        },
        {
          "name": "stdout",
          "output_type": "stream",
          "text": [
            "Valid: Loss = 28.92, Acc = 0.1598\n",
            "\n"
          ]
        },
        {
          "name": "stderr",
          "output_type": "stream",
          "text": [
            "Epoch 10: 100%|██████████| 115/115 [00:01<00:00, 95.15batch/s, accuracy=16.9, loss=33.7] \n"
          ]
        },
        {
          "name": "stdout",
          "output_type": "stream",
          "text": [
            "Valid: Loss = 60.11, Acc = 0.1425\n",
            "\n"
          ]
        },
        {
          "name": "stderr",
          "output_type": "stream",
          "text": [
            "Epoch 11: 100%|██████████| 115/115 [00:01<00:00, 100.94batch/s, accuracy=17.6, loss=35.1]\n"
          ]
        },
        {
          "name": "stdout",
          "output_type": "stream",
          "text": [
            "Valid: Loss = 25.28, Acc = 0.1663\n",
            "\n"
          ]
        },
        {
          "name": "stderr",
          "output_type": "stream",
          "text": [
            "Epoch 12: 100%|██████████| 115/115 [00:01<00:00, 92.33batch/s, accuracy=17, loss=36.2]\n"
          ]
        },
        {
          "name": "stdout",
          "output_type": "stream",
          "text": [
            "Valid: Loss = 25.68, Acc = 0.1605\n",
            "\n"
          ]
        },
        {
          "name": "stderr",
          "output_type": "stream",
          "text": [
            "Epoch 13: 100%|██████████| 115/115 [00:00<00:00, 119.94batch/s, accuracy=16.7, loss=38.7]\n"
          ]
        },
        {
          "name": "stdout",
          "output_type": "stream",
          "text": [
            "Valid: Loss = 20.74, Acc = 0.1663\n",
            "\n"
          ]
        },
        {
          "name": "stderr",
          "output_type": "stream",
          "text": [
            "Epoch 14: 100%|██████████| 115/115 [00:01<00:00, 101.70batch/s, accuracy=17.2, loss=33.5]\n"
          ]
        },
        {
          "name": "stdout",
          "output_type": "stream",
          "text": [
            "Valid: Loss = 45.01, Acc = 0.1826\n",
            "\n"
          ]
        },
        {
          "name": "stderr",
          "output_type": "stream",
          "text": [
            "Epoch 15: 100%|██████████| 115/115 [00:01<00:00, 101.13batch/s, accuracy=16.9, loss=37.7]\n"
          ]
        },
        {
          "name": "stdout",
          "output_type": "stream",
          "text": [
            "Valid: Loss = 39.88, Acc = 0.1683\n",
            "\n"
          ]
        },
        {
          "name": "stderr",
          "output_type": "stream",
          "text": [
            "Epoch 16: 100%|██████████| 115/115 [00:01<00:00, 94.47batch/s, accuracy=17.2, loss=33.8]\n"
          ]
        },
        {
          "name": "stdout",
          "output_type": "stream",
          "text": [
            "Valid: Loss = 47.57, Acc = 0.1429\n",
            "\n"
          ]
        },
        {
          "name": "stderr",
          "output_type": "stream",
          "text": [
            "Epoch 17: 100%|██████████| 115/115 [00:01<00:00, 96.58batch/s, accuracy=16.2, loss=38.2]\n"
          ]
        },
        {
          "name": "stdout",
          "output_type": "stream",
          "text": [
            "model saved!\n",
            "Valid: Loss = 20.19, Acc = 0.1429\n",
            "\n"
          ]
        },
        {
          "name": "stderr",
          "output_type": "stream",
          "text": [
            "Epoch 18: 100%|██████████| 115/115 [00:01<00:00, 90.99batch/s, accuracy=17.3, loss=35.9]\n"
          ]
        },
        {
          "name": "stdout",
          "output_type": "stream",
          "text": [
            "model saved!\n",
            "Valid: Loss = 14.25, Acc = 0.1829\n",
            "\n"
          ]
        },
        {
          "name": "stderr",
          "output_type": "stream",
          "text": [
            "Epoch 19: 100%|██████████| 115/115 [00:01<00:00, 85.30batch/s, accuracy=16.3, loss=39.9]\n"
          ]
        },
        {
          "name": "stdout",
          "output_type": "stream",
          "text": [
            "Valid: Loss = 64.25, Acc = 0.1683\n",
            "\n"
          ]
        }
      ],
      "source": [
        "num_epochs = 20\n",
        "\n",
        "for epoch in range(num_epochs):\n",
        "  # Train\n",
        "  model, loss_train, acc_train = train_one_epoch(model,\n",
        "                                                 train_loader,\n",
        "                                                 loss_fn,\n",
        "                                                 optimizer,\n",
        "                                                 epoch)\n",
        "  # Validation\n",
        "  loss_valid, acc_valid = validation(model,\n",
        "                                     test_loader,\n",
        "                                     loss_fn)\n",
        "\n",
        "  loss_train_hist.append(loss_train)\n",
        "  loss_valid_hist.append(loss_valid)\n",
        "\n",
        "  acc_train_hist.append(acc_train)\n",
        "  acc_valid_hist.append(acc_valid)\n",
        "\n",
        "  if loss_valid < best_loss_valid:\n",
        "    torch.save(model, f'model.pt')\n",
        "    best_loss_valid = loss_valid\n",
        "    print('model saved!')\n",
        "\n",
        "  print(f'Valid: Loss = {loss_valid:.4}, Acc = {acc_valid:.4}')\n",
        "  print()\n",
        "\n",
        "  epoch_counter += 1"
      ]
    },
    {
      "cell_type": "markdown",
      "metadata": {
        "id": "oK20iNRI3Xxb"
      },
      "source": [
        "# **Plot**"
      ]
    },
    {
      "cell_type": "code",
      "execution_count": 94,
      "metadata": {
        "colab": {
          "base_uri": "https://localhost:8080/",
          "height": 466
        },
        "id": "KYFzTsdIOkVp",
        "outputId": "3910d906-7605-49fa-adf1-f26d270f8b9f"
      },
      "outputs": [
        {
          "data": {
            "text/plain": [
              "<matplotlib.legend.Legend at 0x7b8940aaa320>"
            ]
          },
          "execution_count": 94,
          "metadata": {},
          "output_type": "execute_result"
        },
        {
          "data": {
            "image/png": "[encoded data removed]",
            "text/plain": [
              "<Figure size 640x480 with 1 Axes>"
            ]
          },
          "metadata": {},
          "output_type": "display_data"
        }
      ],
      "source": [
        "plt.plot(range(epoch_counter), loss_train_hist, 'r-', label='Train')\n",
        "plt.plot(range(epoch_counter), loss_valid_hist, 'b-', label='Validation')\n",
        "\n",
        "plt.xlabel('Epoch')\n",
        "plt.ylabel('loss')\n",
        "plt.grid(True)\n",
        "plt.legend()"
      ]
    },
    {
      "cell_type": "code",
      "execution_count": 95,
      "metadata": {
        "colab": {
          "base_uri": "https://localhost:8080/",
          "height": 466
        },
        "id": "dUgt-mWsOqhB",
        "outputId": "f523fef7-9e0a-4240-9297-a86915654a07"
      },
      "outputs": [
        {
          "data": {
            "text/plain": [
              "<matplotlib.legend.Legend at 0x7b8940aa9270>"
            ]
          },
          "execution_count": 95,
          "metadata": {},
          "output_type": "execute_result"
        },
        {
          "data": {
            "image/png": "[encoded data removed]",
            "text/plain": [
              "<Figure size 640x480 with 1 Axes>"
            ]
          },
          "metadata": {},
          "output_type": "display_data"
        }
      ],
      "source": [
        "plt.plot(range(epoch_counter), acc_train_hist, 'r-', label='Train')\n",
        "plt.plot(range(epoch_counter), acc_valid_hist, 'b-', label='Validation')\n",
        "\n",
        "plt.xlabel('Epoch')\n",
        "plt.ylabel('Acc')\n",
        "plt.grid(True)\n",
        "plt.legend()"
      ]
    }
  ],
  "metadata": {
    "accelerator": "GPU",
    "colab": {
      "collapsed_sections": [
        "qL0K8Z91OMxx",
        "ubp9lSqgJUx7",
        "ELwgzDfGFXvr",
        "fQFlVvECeZsD",
        "OsNaqujTeiGx",
        "MHXCDiv6vVv0",
        "FpY1h4DZvHmc",
        "3aQRTc6n7-hi",
        "-NBcJXJkfgUI",
        "FrY04rhP8Kw-",
        "9Gp9bVOJPYFz",
        "IHsQ623pOs3J",
        "DY5JMY1Yftsr",
        "mbpEEA0g1-Be",
        "B_LljZFVAFPA",
        "lpJ3wtyctQJH",
        "BrHQCv7q7LF_",
        "uC2GhaXfA8vC",
        "oBW2SLfEEkCp",
        "oK20iNRI3Xxb"
      ],
      "gpuType": "T4",
      "provenance": []
    },
    "kernelspec": {
      "display_name": "Python 3",
      "name": "python3"
    },
    "language_info": {
      "name": "python"
    }
  },
  "nbformat": 4,
  "nbformat_minor": 0
}
