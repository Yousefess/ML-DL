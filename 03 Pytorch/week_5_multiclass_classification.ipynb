{
  "cells": [
    {
      "cell_type": "markdown",
      "metadata": {
        "id": "j33aYo98boyK"
      },
      "source": [
        "#  <font color='#FFE15D'><b>💎 Week 5: Multiclass Classification</b></font>"
      ]
    },
    {
      "cell_type": "markdown",
      "metadata": {
        "id": "2Uo3zoOHboyX",
        "jp-MarkdownHeadingCollapsed": true,
        "tags": []
      },
      "source": [
        "## ◀️ **Recap 👀**"
      ]
    },
    {
      "cell_type": "markdown",
      "metadata": {
        "id": "ER-s39fmlOxe"
      },
      "source": [
        "<font size=5>✅ **Week 0**: Installation </font>\n",
        "\n",
        "<font size=5>✅ **Week 1**: Torch as Numpy </font>\n",
        "\n",
        "<font size=5>✅ **Week 2**: Linear Regression with Torch API </font>\n",
        "\n",
        "<font size=5>✅ **Week 3**: Linear Regression Autograd </font>\n",
        "\n",
        "<font size=5>✅ **Week 4**: Binary Classification </font>"
      ]
    },
    {
      "cell_type": "code",
      "execution_count": null,
      "metadata": {
        "id": "1zk7bs5V08HZ"
      },
      "outputs": [],
      "source": [
        "# Load Data\n",
        "train_set = TensorDataset(X, y)\n",
        "train_loader = DataLoader(train_set, batch_size=..., shuffle=True)\n",
        "\n",
        "# Define Model\n",
        "model = nn.Linear(...)\n",
        "\n",
        "# Define Loss\n",
        "loss_fn = nn...\n",
        "\n",
        "# Define Optimizer\n",
        "optimizer = optim.SGD(model.parameters(), lr=..., momentum=0.9)\n",
        "\n",
        "# train Loop\n",
        "for epoch in range(n_epochs):\n",
        "  for x_batch, y_batch in train_loader:\n",
        "    # model\n",
        "    y_hat = model(x_batch)\n",
        "    # loss\n",
        "    loss = loss_fn(y_hat, y_batch)\n",
        "    # gradient\n",
        "    loss.backward()\n",
        "    # update\n",
        "    optimizer.step()\n",
        "    optimizer.zero_grad()"
      ]
    },
    {
      "cell_type": "markdown",
      "metadata": {
        "id": "Yr3bfpgyoD_c"
      },
      "source": [
        "## 🟪 **Increasing the output font size in Colab cells**"
      ]
    },
    {
      "cell_type": "code",
      "execution_count": 1,
      "metadata": {
        "id": "V5KCx1Cqmiya"
      },
      "outputs": [],
      "source": [
        "from IPython.display import HTML\n",
        "shell = get_ipython()\n",
        "\n",
        "def adjust_font_size():\n",
        "  display(HTML('''<style>\n",
        "    body {\n",
        "      font-size: 30px;\n",
        "    }\n",
        "  '''))\n",
        "\n",
        "if adjust_font_size not in shell.events.callbacks['pre_execute']:\n",
        "  shell.events.register('pre_execute', adjust_font_size)"
      ]
    },
    {
      "cell_type": "code",
      "execution_count": 2,
      "metadata": {
        "colab": {
          "base_uri": "https://localhost:8080/",
          "height": 0
        },
        "id": "reSgRYEYqGHZ",
        "outputId": "9cac6282-583f-47a1-b566-8516d0f18245"
      },
      "outputs": [
        {
          "data": {
            "text/html": [
              "<style>\n",
              "    body {\n",
              "      font-size: 30px;\n",
              "    }\n",
              "  "
            ],
            "text/plain": [
              "<IPython.core.display.HTML object>"
            ]
          },
          "metadata": {},
          "output_type": "display_data"
        },
        {
          "data": {
            "text/plain": [
              "3"
            ]
          },
          "execution_count": 2,
          "metadata": {},
          "output_type": "execute_result"
        }
      ],
      "source": [
        "a = 3\n",
        "a"
      ]
    },
    {
      "cell_type": "markdown",
      "metadata": {
        "id": "z5Ix-JmlZ8xn",
        "jp-MarkdownHeadingCollapsed": true,
        "tags": []
      },
      "source": [
        "## 🟥 **Imports**"
      ]
    },
    {
      "cell_type": "code",
      "execution_count": 1,
      "metadata": {
        "colab": {
          "base_uri": "https://localhost:8080/",
          "height": 0
        },
        "id": "BgzrYL9ugK4l",
        "outputId": "adbd5090-07e5-47eb-9c8c-08ad5ea2776c"
      },
      "outputs": [],
      "source": [
        "import numpy as np\n",
        "import matplotlib.pyplot as plt\n",
        "import pandas as pd\n",
        "\n",
        "from sklearn.model_selection import train_test_split\n",
        "from sklearn.preprocessing import StandardScaler\n",
        "\n",
        "import torch\n",
        "from torch.utils.data import TensorDataset, DataLoader\n",
        "import torch.nn as nn\n",
        "from torch.optim import SGD"
      ]
    },
    {
      "cell_type": "code",
      "execution_count": 2,
      "metadata": {
        "colab": {
          "base_uri": "https://localhost:8080/",
          "height": 0
        },
        "id": "SaLIYWTmoZqD",
        "outputId": "94327d9b-c645-480c-c608-546fad80f1bc"
      },
      "outputs": [
        {
          "data": {
            "text/plain": [
              "'2.1.2'"
            ]
          },
          "execution_count": 2,
          "metadata": {},
          "output_type": "execute_result"
        }
      ],
      "source": [
        "torch.__version__"
      ]
    },
    {
      "cell_type": "markdown",
      "metadata": {
        "id": "GR24qEHXboyT",
        "tags": []
      },
      "source": [
        "## 🟥 **Step 1: Data**"
      ]
    },
    {
      "cell_type": "code",
      "execution_count": 3,
      "metadata": {
        "colab": {
          "base_uri": "https://localhost:8080/",
          "height": 0
        },
        "id": "l-Ep2UMqIJCU",
        "outputId": "917c2327-1afa-48df-e73b-4ef2980819f7"
      },
      "outputs": [],
      "source": [
        "from sklearn import datasets"
      ]
    },
    {
      "cell_type": "code",
      "execution_count": 4,
      "metadata": {
        "colab": {
          "base_uri": "https://localhost:8080/",
          "height": 0
        },
        "id": "cn8G0kl_II-m",
        "outputId": "89b5d655-1875-417e-e483-09aff8dbaa5f"
      },
      "outputs": [
        {
          "data": {
            "text/plain": [
              "(150, 4, 3)"
            ]
          },
          "execution_count": 4,
          "metadata": {},
          "output_type": "execute_result"
        }
      ],
      "source": [
        "iris = datasets.load_iris()\n",
        "X = iris.data\n",
        "y = iris.target\n",
        "num_samples, num_features = X.shape\n",
        "num_classes = len(np.unique(y))\n",
        "num_samples, num_features, num_classes"
      ]
    },
    {
      "cell_type": "code",
      "execution_count": 5,
      "metadata": {
        "colab": {
          "base_uri": "https://localhost:8080/",
          "height": 0
        },
        "id": "XEqkRiqSNKdC",
        "outputId": "5470a12e-e01b-4dd4-fbf1-01ed3fa58bf9"
      },
      "outputs": [
        {
          "data": {
            "image/png": "[encoded data removed]",
            "text/plain": [
              "<Figure size 640x480 with 1 Axes>"
            ]
          },
          "metadata": {},
          "output_type": "display_data"
        }
      ],
      "source": [
        "_, ax = plt.subplots()\n",
        "scatter = ax.scatter(iris.data[:, 2], iris.data[:, 3], c=iris.target)\n",
        "ax.set(xlabel=iris.feature_names[2], ylabel=iris.feature_names[3])\n",
        "_ = ax.legend(\n",
        "    scatter.legend_elements()[0], iris.target_names, loc=\"lower right\", title=\"Classes\"\n",
        ")"
      ]
    },
    {
      "cell_type": "code",
      "execution_count": 6,
      "metadata": {
        "colab": {
          "base_uri": "https://localhost:8080/",
          "height": 0
        },
        "id": "jrk33ARUDq2I",
        "outputId": "b8d0fbd7-6815-436c-9e55-39fdc69cd4e9"
      },
      "outputs": [
        {
          "data": {
            "text/plain": [
              "((108, 4), (108,), (12, 4), (12,), (30, 4), (30,))"
            ]
          },
          "execution_count": 6,
          "metadata": {},
          "output_type": "execute_result"
        }
      ],
      "source": [
        "X_train, X_test, y_train, y_test = train_test_split(X, y, train_size=0.8, random_state=10, stratify=y)\n",
        "X_train, X_valid, y_train, y_valid = train_test_split(X_train, y_train, train_size=0.9, random_state=10, stratify=y_train)\n",
        "X_train.shape, y_train.shape, X_valid.shape, y_valid.shape, X_test.shape, y_test.shape"
      ]
    },
    {
      "cell_type": "code",
      "execution_count": 7,
      "metadata": {
        "colab": {
          "base_uri": "https://localhost:8080/",
          "height": 0
        },
        "id": "Qb-OvDY0q9js",
        "outputId": "cb73d286-90af-4cac-f16d-7a6a002e947f"
      },
      "outputs": [],
      "source": [
        "x_scaler = StandardScaler()\n",
        "X_train = x_scaler.fit_transform(X_train)\n",
        "X_valid = x_scaler.transform(X_valid)\n",
        "X_test = x_scaler.transform(X_test)"
      ]
    },
    {
      "cell_type": "code",
      "execution_count": 8,
      "metadata": {
        "colab": {
          "base_uri": "https://localhost:8080/",
          "height": 0
        },
        "id": "W4ZNEsoArPkI",
        "outputId": "62a26585-799a-499c-92f1-8ef0e4de4d25"
      },
      "outputs": [
        {
          "data": {
            "text/plain": [
              "(torch.Size([108, 4]),\n",
              " torch.Size([108]),\n",
              " torch.Size([12, 4]),\n",
              " torch.Size([12]),\n",
              " torch.Size([30, 4]),\n",
              " torch.Size([30]))"
            ]
          },
          "execution_count": 8,
          "metadata": {},
          "output_type": "execute_result"
        }
      ],
      "source": [
        "X_train = torch.tensor(X_train, dtype=torch.float32)\n",
        "y_train = torch.tensor(y_train, dtype=torch.int64)\n",
        "\n",
        "X_valid = torch.tensor(X_valid, dtype=torch.float32)\n",
        "y_valid = torch.tensor(y_valid, dtype=torch.int64)\n",
        "\n",
        "X_test = torch.tensor(X_test, dtype=torch.float32)\n",
        "y_test = torch.tensor(y_test, dtype=torch.int64)\n",
        "\n",
        "X_train.shape, y_train.shape, X_valid.shape, y_valid.shape, X_test.shape, y_test.shape"
      ]
    },
    {
      "cell_type": "code",
      "execution_count": 9,
      "metadata": {
        "colab": {
          "base_uri": "https://localhost:8080/",
          "height": 0
        },
        "id": "6-ObtWMFsE6q",
        "outputId": "e96b48ac-2c20-42fb-b74e-a7925bc00079"
      },
      "outputs": [],
      "source": [
        "train_set = TensorDataset(X_train, y_train)\n",
        "valid_set = TensorDataset(X_valid, y_valid)\n",
        "test_set = TensorDataset(X_test, y_test)"
      ]
    },
    {
      "cell_type": "code",
      "execution_count": 10,
      "metadata": {
        "colab": {
          "base_uri": "https://localhost:8080/",
          "height": 0
        },
        "id": "LenzGWZWsOPi",
        "outputId": "43b4a9ca-fa41-4047-ce91-885cf7056819"
      },
      "outputs": [],
      "source": [
        "train_loader = DataLoader(train_set, batch_size=10, shuffle=True)\n",
        "valid_loader = DataLoader(valid_set, batch_size=10)\n",
        "test_loader = DataLoader(test_set, batch_size=10)"
      ]
    },
    {
      "cell_type": "code",
      "execution_count": 11,
      "metadata": {
        "colab": {
          "base_uri": "https://localhost:8080/",
          "height": 0
        },
        "id": "lXglVLU3tp_G",
        "outputId": "4cba9fb2-d7cc-417e-bcac-b6dca04166d3"
      },
      "outputs": [
        {
          "data": {
            "text/plain": [
              "(torch.Size([10, 4]), torch.Size([10]))"
            ]
          },
          "execution_count": 11,
          "metadata": {},
          "output_type": "execute_result"
        }
      ],
      "source": [
        "x_batch, y_batch = next(iter(train_loader))\n",
        "x_batch.shape, y_batch.shape"
      ]
    },
    {
      "cell_type": "code",
      "execution_count": 12,
      "metadata": {
        "colab": {
          "base_uri": "https://localhost:8080/",
          "height": 0
        },
        "id": "w0_FFBTidFyZ",
        "outputId": "96300a3a-7a59-4217-8d01-63c4a4d8f4c1"
      },
      "outputs": [
        {
          "data": {
            "text/plain": [
              "tensor([0, 2, 1, 0, 1, 0, 2, 0, 0, 1])"
            ]
          },
          "execution_count": 12,
          "metadata": {},
          "output_type": "execute_result"
        }
      ],
      "source": [
        "y_batch"
      ]
    },
    {
      "cell_type": "markdown",
      "metadata": {
        "id": "HX_M1Kwgboyd",
        "tags": []
      },
      "source": [
        "## 🟥 **Step 2: Model**"
      ]
    },
    {
      "cell_type": "markdown",
      "metadata": {
        "id": "WJ4hWyDyuqDc"
      },
      "source": [
        "### 🟧 **`nn.Linear()`**"
      ]
    },
    {
      "cell_type": "code",
      "execution_count": 31,
      "metadata": {
        "colab": {
          "base_uri": "https://localhost:8080/",
          "height": 0
        },
        "id": "ndYIc8zVVYEy",
        "outputId": "c0258d19-a06e-4383-c8fa-f3caaafd8033"
      },
      "outputs": [
        {
          "data": {
            "text/plain": [
              "Linear(in_features=4, out_features=3, bias=True)"
            ]
          },
          "execution_count": 31,
          "metadata": {},
          "output_type": "execute_result"
        }
      ],
      "source": [
        "model = nn.Linear(num_features, num_classes)\n",
        "model"
      ]
    },
    {
      "cell_type": "code",
      "execution_count": 32,
      "metadata": {
        "colab": {
          "base_uri": "https://localhost:8080/",
          "height": 0
        },
        "id": "fDSwWO-CVaav",
        "outputId": "e26c1749-7cac-40f0-b48f-f9c9edc3b7e0"
      },
      "outputs": [
        {
          "data": {
            "text/plain": [
              "torch.Size([2, 3])"
            ]
          },
          "execution_count": 32,
          "metadata": {},
          "output_type": "execute_result"
        }
      ],
      "source": [
        "y_hat = model(x_batch)\n",
        "y_hat.shape"
      ]
    },
    {
      "cell_type": "code",
      "execution_count": 33,
      "metadata": {
        "colab": {
          "base_uri": "https://localhost:8080/",
          "height": 0
        },
        "id": "m9V2acs3VZCi",
        "outputId": "5b4341ca-7f6d-4b16-8eaa-e8929c2fb281"
      },
      "outputs": [
        {
          "data": {
            "text/plain": [
              "(Parameter containing:\n",
              " tensor([[ 0.2018, -0.1237, -0.3600, -0.1272],\n",
              "         [-0.4454, -0.3212, -0.1305, -0.0650],\n",
              "         [-0.1772,  0.2925, -0.3651,  0.4986]], requires_grad=True),\n",
              " Parameter containing:\n",
              " tensor([-0.3004, -0.2274,  0.1436], requires_grad=True))"
            ]
          },
          "execution_count": 33,
          "metadata": {},
          "output_type": "execute_result"
        }
      ],
      "source": [
        "model.weight, model.bias"
      ]
    },
    {
      "cell_type": "markdown",
      "metadata": {
        "id": "-kz6vr4NuxAC"
      },
      "source": [
        "### 🟧 **Softmax**"
      ]
    },
    {
      "cell_type": "code",
      "execution_count": 34,
      "metadata": {
        "colab": {
          "base_uri": "https://localhost:8080/",
          "height": 0
        },
        "id": "tKwaaLxSU28C",
        "outputId": "e95ab30f-fa1d-4b66-ec61-43bdf36da92b"
      },
      "outputs": [
        {
          "data": {
            "text/plain": [
              "tensor([[0.9148, 0.0751, 0.0102],\n",
              "        [0.9148, 0.0751, 0.0102]])"
            ]
          },
          "execution_count": 34,
          "metadata": {},
          "output_type": "execute_result"
        }
      ],
      "source": [
        "a = torch.tensor(\n",
        "    [[5, 2.5, 0.5],\n",
        "     [5, 2.5, 0.5]]\n",
        "     )\n",
        "torch.softmax(a, dim=1)"
      ]
    },
    {
      "cell_type": "code",
      "execution_count": 35,
      "metadata": {
        "colab": {
          "base_uri": "https://localhost:8080/",
          "height": 0
        },
        "id": "R3jVELISZ89L",
        "outputId": "36ca4279-9f25-4342-d95f-60d1fdecc78c"
      },
      "outputs": [
        {
          "data": {
            "text/plain": [
              "tensor([[0.3596, 0.4144, 0.2260],\n",
              "        [0.2467, 0.3676, 0.3857]], grad_fn=<SoftmaxBackward0>)"
            ]
          },
          "execution_count": 35,
          "metadata": {},
          "output_type": "execute_result"
        }
      ],
      "source": [
        "torch.softmax(y_hat, dim=1)"
      ]
    },
    {
      "cell_type": "markdown",
      "metadata": {
        "id": "y6D1tpUqUw5Y"
      },
      "source": [
        "### 🟧 **Define Multiclass Model**"
      ]
    },
    {
      "cell_type": "code",
      "execution_count": 36,
      "metadata": {
        "colab": {
          "base_uri": "https://localhost:8080/",
          "height": 0
        },
        "id": "Lg6I_JO7ba61",
        "outputId": "e967f636-0198-4e87-c051-8d854bab99e9"
      },
      "outputs": [
        {
          "data": {
            "text/plain": [
              "tensor([[0.5481, 0.1656, 0.2863],\n",
              "        [0.1168, 0.2039, 0.6793]], grad_fn=<SoftmaxBackward0>)"
            ]
          },
          "execution_count": 36,
          "metadata": {},
          "output_type": "execute_result"
        }
      ],
      "source": [
        "model = nn.Linear(num_features, num_classes)\n",
        "y_hat = torch.softmax(model(x_batch), dim=1)\n",
        "y_hat"
      ]
    },
    {
      "cell_type": "code",
      "execution_count": 37,
      "metadata": {
        "colab": {
          "base_uri": "https://localhost:8080/",
          "height": 0
        },
        "id": "zgeys_CxbcvR",
        "outputId": "ada9ddbf-91e7-458e-a0eb-7bfd158148dc"
      },
      "outputs": [
        {
          "data": {
            "text/plain": [
              "Sequential(\n",
              "  (0): Linear(in_features=4, out_features=3, bias=True)\n",
              "  (1): Softmax(dim=1)\n",
              ")"
            ]
          },
          "execution_count": 37,
          "metadata": {},
          "output_type": "execute_result"
        }
      ],
      "source": [
        "model = nn.Sequential(\n",
        "    nn.Linear(num_features, num_classes),\n",
        "    nn.Softmax(dim=1)\n",
        "    )\n",
        "model"
      ]
    },
    {
      "cell_type": "code",
      "execution_count": 38,
      "metadata": {
        "colab": {
          "base_uri": "https://localhost:8080/",
          "height": 0
        },
        "id": "CyaZZXtAbg3H",
        "outputId": "d41d32d0-ab24-43fd-ef83-afa2a596558c"
      },
      "outputs": [
        {
          "data": {
            "text/plain": [
              "Linear(in_features=4, out_features=3, bias=True)"
            ]
          },
          "execution_count": 38,
          "metadata": {},
          "output_type": "execute_result"
        }
      ],
      "source": [
        "model = nn.Linear(num_features, num_classes)\n",
        "model"
      ]
    },
    {
      "cell_type": "markdown",
      "metadata": {
        "id": "eJwX1uUo9s65",
        "tags": []
      },
      "source": [
        "## 🟥 **Step 3: Loss**"
      ]
    },
    {
      "cell_type": "code",
      "execution_count": 42,
      "metadata": {
        "colab": {
          "base_uri": "https://localhost:8080/",
          "height": 0
        },
        "id": "y-SR3AZAzsy4",
        "outputId": "7e40c440-a150-4975-a415-029ec9098913"
      },
      "outputs": [
        {
          "data": {
            "text/plain": [
              "CrossEntropyLoss()"
            ]
          },
          "execution_count": 42,
          "metadata": {},
          "output_type": "execute_result"
        }
      ],
      "source": [
        "loss_fn = nn.CrossEntropyLoss()\n",
        "loss_fn"
      ]
    },
    {
      "cell_type": "code",
      "execution_count": 43,
      "metadata": {
        "colab": {
          "base_uri": "https://localhost:8080/",
          "height": 0
        },
        "id": "DPHzrUINcvan",
        "outputId": "105bf46e-735e-4bb4-ebfa-0589b433d06c"
      },
      "outputs": [
        {
          "data": {
            "text/plain": [
              "tensor([1, 0])"
            ]
          },
          "execution_count": 43,
          "metadata": {},
          "output_type": "execute_result"
        }
      ],
      "source": [
        "y_batch"
      ]
    },
    {
      "cell_type": "code",
      "execution_count": 44,
      "metadata": {
        "colab": {
          "base_uri": "https://localhost:8080/",
          "height": 0
        },
        "id": "jmQv_8wu0HUJ",
        "outputId": "6e0ce6a4-15d5-4248-a581-3e69aae82663"
      },
      "outputs": [
        {
          "data": {
            "text/plain": [
              "tensor(1.3132, grad_fn=<NllLossBackward0>)"
            ]
          },
          "execution_count": 44,
          "metadata": {},
          "output_type": "execute_result"
        }
      ],
      "source": [
        "loss_fn(y_hat, y_batch)"
      ]
    },
    {
      "cell_type": "markdown",
      "metadata": {
        "id": "ogv19AK90GHQ",
        "tags": []
      },
      "source": [
        "## 🟥 **Step 4: Optimizer**"
      ]
    },
    {
      "cell_type": "code",
      "execution_count": 45,
      "metadata": {
        "colab": {
          "base_uri": "https://localhost:8080/",
          "height": 0
        },
        "id": "RLe7lHV20Fcf",
        "outputId": "a7def2a8-08ff-419a-f89e-8ec7a14be5d2"
      },
      "outputs": [
        {
          "data": {
            "text/plain": [
              "SGD (\n",
              "Parameter Group 0\n",
              "    dampening: 0\n",
              "    differentiable: False\n",
              "    foreach: None\n",
              "    lr: 0.1\n",
              "    maximize: False\n",
              "    momentum: 0.9\n",
              "    nesterov: False\n",
              "    weight_decay: 0\n",
              ")"
            ]
          },
          "execution_count": 45,
          "metadata": {},
          "output_type": "execute_result"
        }
      ],
      "source": [
        "optimizer = SGD(model.parameters(), lr=0.1, momentum=0.9)\n",
        "optimizer"
      ]
    },
    {
      "cell_type": "markdown",
      "metadata": {
        "id": "jw1VwE7d97gD",
        "tags": []
      },
      "source": [
        "## 🟥 **Step 5: Train**"
      ]
    },
    {
      "cell_type": "code",
      "execution_count": 46,
      "metadata": {
        "colab": {
          "base_uri": "https://localhost:8080/",
          "height": 91
        },
        "id": "qoTZFYGKeXPR",
        "outputId": "b019ef04-6be4-4b62-da3c-92901d1cc023"
      },
      "outputs": [
        {
          "data": {
            "text/plain": [
              "(tensor([0, 2]), tensor([1, 0]))"
            ]
          },
          "execution_count": 46,
          "metadata": {},
          "output_type": "execute_result"
        }
      ],
      "source": [
        "y_hat.argmax(dim=1), y_batch"
      ]
    },
    {
      "cell_type": "code",
      "execution_count": 47,
      "metadata": {
        "colab": {
          "base_uri": "https://localhost:8080/",
          "height": 17
        },
        "id": "fWv_KWBg6XIr",
        "outputId": "c8d328cc-f0a3-4093-b7bc-1297b2674d1c"
      },
      "outputs": [],
      "source": [
        "n_epochs = 10\n",
        "loss_train_hist, loss_valid_hist = [], []\n",
        "acc_train_hist, acc_valid_hist = [], []\n",
        "best_loss_valid = 10000"
      ]
    },
    {
      "cell_type": "code",
      "execution_count": 48,
      "metadata": {
        "colab": {
          "base_uri": "https://localhost:8080/",
          "height": 612
        },
        "id": "fPYOBz_O5J66",
        "outputId": "f09c623c-cbc6-48e8-8ec9-2ee1b24f3cf2"
      },
      "outputs": [
        {
          "name": "stdout",
          "output_type": "stream",
          "text": [
            "Epoch: 0   LossTrain: 0.88   AccTrain: 0.56   LossValid: 0.27   AccValid: 0.92\n",
            "Model Saved!\n",
            "\n",
            "Epoch: 1   LossTrain: 0.39   AccTrain: 0.82   LossValid: 0.19   AccValid: 0.92\n",
            "Model Saved!\n",
            "\n",
            "Epoch: 2   LossTrain: 0.25   AccTrain: 0.9   LossValid: 0.16   AccValid: 0.92\n",
            "Model Saved!\n",
            "\n",
            "Epoch: 3   LossTrain: 0.19   AccTrain: 0.93   LossValid: 0.13   AccValid: 1.0\n",
            "Model Saved!\n",
            "\n",
            "Epoch: 4   LossTrain: 0.16   AccTrain: 0.95   LossValid: 0.15   AccValid: 1.0\n",
            "Epoch: 5   LossTrain: 0.14   AccTrain: 0.96   LossValid: 0.15   AccValid: 0.92\n",
            "Epoch: 6   LossTrain: 0.13   AccTrain: 0.97   LossValid: 0.1   AccValid: 1.0\n",
            "Model Saved!\n",
            "\n",
            "Epoch: 7   LossTrain: 0.12   AccTrain: 0.96   LossValid: 0.12   AccValid: 1.0\n",
            "Epoch: 8   LossTrain: 0.12   AccTrain: 0.96   LossValid: 0.1   AccValid: 1.0\n",
            "Model Saved!\n",
            "\n",
            "Epoch: 9   LossTrain: 0.11   AccTrain: 0.96   LossValid: 0.091   AccValid: 1.0\n",
            "Model Saved!\n",
            "\n"
          ]
        }
      ],
      "source": [
        "for epoch in range(n_epochs):\n",
        "\n",
        "  mean_loss_train, mean_loss_valid = 0, 0\n",
        "  mean_acc_train, mean_acc_valid = 0, 0\n",
        "\n",
        "  for x_batch, y_batch in train_loader:\n",
        "\n",
        "    # model\n",
        "    y_hat = model(x_batch)\n",
        "\n",
        "    # loss\n",
        "    loss = loss_fn(y_hat, y_batch)\n",
        "\n",
        "    # gradient\n",
        "    loss.backward()\n",
        "\n",
        "    # update\n",
        "    optimizer.step()\n",
        "    optimizer.zero_grad()\n",
        "\n",
        "    mean_loss_train += loss.item() * len(x_batch)\n",
        "    mean_acc_train += torch.sum(y_hat.argmax(dim=1) == y_batch).item()\n",
        "\n",
        "  mean_loss_train = mean_loss_train / len(train_set)\n",
        "  mean_acc_train = mean_acc_train / len(train_set)\n",
        "\n",
        "  loss_train_hist.append(mean_loss_train)\n",
        "  acc_train_hist.append(mean_acc_train)\n",
        "\n",
        "\n",
        "  with torch.no_grad():\n",
        "    for x_batch, y_batch in valid_loader:\n",
        "      y_hat = model(x_batch)\n",
        "      loss = loss_fn(y_hat, y_batch)\n",
        "      mean_loss_valid += loss.item() * len(x_batch)\n",
        "      mean_acc_valid += torch.sum(y_hat.argmax(dim=1) == y_batch).item()\n",
        "\n",
        "    mean_loss_valid = mean_loss_valid / len(valid_set)\n",
        "    mean_acc_valid = mean_acc_valid / len(valid_set)\n",
        "\n",
        "    loss_valid_hist.append(mean_loss_valid)\n",
        "    acc_valid_hist.append(mean_acc_valid)\n",
        "\n",
        "  print(\n",
        "  f\"Epoch: {epoch}   \"\n",
        "  f\"LossTrain: {mean_loss_train:.2}   \"\n",
        "  f\"AccTrain: {mean_acc_train:.2}   \"\n",
        "  f\"LossValid: {mean_loss_valid:.2}   \"\n",
        "  f\"AccValid: {mean_acc_valid:.2}\"\n",
        "  )\n",
        "\n",
        "  if mean_loss_valid < best_loss_valid:\n",
        "    torch.save(model, \"./out/week-5-best-model.pt\")\n",
        "    best_loss_valid = mean_loss_valid\n",
        "    print(\"Model Saved!\")\n",
        "    print()"
      ]
    },
    {
      "cell_type": "code",
      "execution_count": 49,
      "metadata": {
        "colab": {
          "base_uri": "https://localhost:8080/",
          "height": 430
        },
        "id": "fBpJWv2eIeBD",
        "outputId": "a9b9758f-9955-427c-a491-8a08e5d68c27"
      },
      "outputs": [
        {
          "data": {
            "image/png": "[encoded data removed]",
            "text/plain": [
              "<Figure size 640x480 with 1 Axes>"
            ]
          },
          "metadata": {},
          "output_type": "display_data"
        }
      ],
      "source": [
        "plt.plot(torch.arange(n_epochs), loss_train_hist)\n",
        "plt.plot(torch.arange(n_epochs), loss_valid_hist)\n",
        "plt.legend([\"Train\", \"Valid\"]);"
      ]
    },
    {
      "cell_type": "code",
      "execution_count": 50,
      "metadata": {
        "colab": {
          "base_uri": "https://localhost:8080/",
          "height": 430
        },
        "id": "2Y-gTcgyIzCr",
        "outputId": "4203c78c-52e6-44c4-9168-63909fdef527"
      },
      "outputs": [
        {
          "data": {
            "image/png": "[encoded data removed]",
            "text/plain": [
              "<Figure size 640x480 with 1 Axes>"
            ]
          },
          "metadata": {},
          "output_type": "display_data"
        }
      ],
      "source": [
        "plt.plot(torch.arange(n_epochs), acc_train_hist)\n",
        "plt.plot(torch.arange(n_epochs), acc_valid_hist)\n",
        "plt.legend([\"Train\", \"Valid\"]);"
      ]
    },
    {
      "cell_type": "markdown",
      "metadata": {
        "id": "VkNBA0NvhVTU",
        "tags": []
      },
      "source": [
        "## 🟥 **Test**"
      ]
    },
    {
      "cell_type": "code",
      "execution_count": 51,
      "metadata": {
        "colab": {
          "base_uri": "https://localhost:8080/",
          "height": 17
        },
        "id": "zbZArNUQ-2Qv",
        "outputId": "ab123042-6b41-4439-d10d-634b252d2294"
      },
      "outputs": [],
      "source": [
        "model = torch.load(\"./out/week-5-best-model.pt\")"
      ]
    },
    {
      "cell_type": "code",
      "execution_count": 52,
      "metadata": {
        "colab": {
          "base_uri": "https://localhost:8080/",
          "height": 54
        },
        "id": "KDZi8N0q-bCf",
        "outputId": "4660cceb-a128-41c1-e4d5-246ff4feb953"
      },
      "outputs": [
        {
          "data": {
            "text/plain": [
              "1.0"
            ]
          },
          "execution_count": 52,
          "metadata": {},
          "output_type": "execute_result"
        }
      ],
      "source": [
        "mean_acc_test = 0\n",
        "\n",
        "with torch.no_grad():\n",
        "  for x_batch, y_batch in test_loader:\n",
        "    y_hat = model(x_batch)\n",
        "    mean_acc_test += torch.sum(y_hat.argmax(dim=1) == y_batch).item()\n",
        "  mean_acc_test = mean_acc_test / len(test_set)\n",
        "\n",
        "mean_acc_test"
      ]
    },
    {
      "cell_type": "markdown",
      "metadata": {
        "id": "lIWkjpuGUmUN",
        "tags": []
      },
      "source": [
        "## 🟪 **Exercise: Fetal Health Classification**"
      ]
    },
    {
      "cell_type": "markdown",
      "metadata": {
        "id": "v6KemLSSUtjF"
      },
      "source": [
        "https://www.kaggle.com/datasets/andrewmvd/fetal-health-classification/code?datasetId=916586"
      ]
    },
    {
      "cell_type": "markdown",
      "metadata": {
        "id": "CLUHEYf-UvnT"
      },
      "source": [
        "**Classify fetal health in order to prevent child and maternal mortality.**\n",
        "\n",
        "Reduction of child mortality is reflected in several of the United Nations' Sustainable Development Goals and is a key indicator of human progress.\n",
        "The UN expects that by 2030, countries end preventable deaths of newborns and children under 5 years of age, with all countries aiming to reduce under‑5 mortality to at least as low as 25 per 1,000 live births.\n",
        "\n",
        "Parallel to notion of child mortality is of course maternal mortality, which accounts for **295 000 deaths** during and following pregnancy and childbirth (as of 2017). The vast majority of these deaths (**94%**) occurred in low-resource settings, and most **could have been prevented**.\n",
        "\n",
        "In light of what was mentioned above, **Cardiotocograms (CTGs)** are a simple and cost accessible option to assess fetal health, allowing healthcare professionals to take action in order to prevent child and maternal mortality. The equipment itself works by sending ultrasound pulses and reading its response, thus shedding light on fetal heart rate (FHR), fetal movements, uterine contractions and more.\n",
        "\n",
        "This dataset contains **2126** records of features extracted from Cardiotocogram exams, which were then classified by three expert obstetritians into **3 classes**:\n",
        "\n",
        "* Normal\n",
        "* Suspect\n",
        "* Pathological"
      ]
    }
  ],
  "metadata": {
    "colab": {
      "authorship_tag": "ABX9TyP8/Iha7EXrU06Kuj3JWDGD",
      "collapsed_sections": [
        "2Uo3zoOHboyX",
        "Yr3bfpgyoD_c",
        "z5Ix-JmlZ8xn",
        "GR24qEHXboyT",
        "HX_M1Kwgboyd",
        "WJ4hWyDyuqDc",
        "-kz6vr4NuxAC",
        "y6D1tpUqUw5Y",
        "eJwX1uUo9s65",
        "ogv19AK90GHQ",
        "jw1VwE7d97gD",
        "VkNBA0NvhVTU",
        "lIWkjpuGUmUN"
      ],
      "include_colab_link": true,
      "mount_file_id": "1OraDdL3cZ-obfqRMLE_FfWqdR9asV-uG",
      "provenance": []
    },
    "kernelspec": {
      "display_name": "Python 3",
      "name": "python3"
    },
    "language_info": {
      "codemirror_mode": {
        "name": "ipython",
        "version": 3
      },
      "file_extension": ".py",
      "mimetype": "text/x-python",
      "name": "python",
      "nbconvert_exporter": "python",
      "pygments_lexer": "ipython3",
      "version": "3.10.13"
    }
  },
  "nbformat": 4,
  "nbformat_minor": 0
}
